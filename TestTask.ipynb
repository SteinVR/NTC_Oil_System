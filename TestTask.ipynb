{
 "cells": [
  {
   "attachments": {},
   "cell_type": "markdown",
   "metadata": {},
   "source": [
    "# Тестовое задание"
   ]
  },
  {
   "attachments": {},
   "cell_type": "markdown",
   "metadata": {},
   "source": [
    "Требуется разработать алгоритм максимизации функции k на ориентированном мультиграфе (ССиТ).\n",
    "\n",
    "Построение алгоритма будет выполняться в 2 этапа:\n",
    "1. Написание движка для нахождения функции k на заданном ориентированном мультиграфе (ССиТ)\n",
    "2. Оптимизация функции k"
   ]
  },
  {
   "attachments": {},
   "cell_type": "markdown",
   "metadata": {},
   "source": [
    "### Этап 1: Написание движка для нахождения функции k на заданном ориентированном мультиграфе"
   ]
  },
  {
   "attachments": {},
   "cell_type": "markdown",
   "metadata": {},
   "source": [
    "Код определяет классы для графа, состоящего из вершин и ребер, со специальными узлами для скважин и стока. Затем он создает граф, находит все ребра, которые соединяют скважины со стоком, и вычисляет дебиты через ребра в трубопроводе для скважин\n",
    "\n",
    "Классы для графа включают класс Vertex, класс Edge и специальные классы Well и Drain, которые наследуются от класса Vertex. Класс Vertex имеет атрибут idx для хранения индекса вершины, атрибут edge_input для хранения списка входящих ребер и атрибут Q для хранения дебита вершины. Класс Edge имеет атрибут idx для хранения индекса ребра, а также атрибуты vertex1 и vertex2 для хранения вершин на обоих концах ребра. Классы Well и Drain имеют дополнительные атрибуты для хранения параметров дебита, специфичных для этих узлов\n",
    "\n",
    "Функция create_graph() создает график, запрашивая у пользователя количество скважин (начальных вершин графа), промежуточных узлов (Vertex) и общее количество ребер, создавая экземпляры соответствующих классов для представления этих узлов и ребер. Ввод производится последовательно, в соответствии с направлением графа. Затем функция обновляет дебиты через вершины и ребра до тех пор, пока все ребра и узлы не обретут его значения.\n",
    "\n",
    "\n",
    "Функция find_pipes() принимает узел скважины и список всех ребер на граф, и возвращает список всех ребер, которые соединяют скважину со стоком. Эта функция используется для нахождения суммы всех потерь на трубах от скважины до стока\n",
    "\n",
    "Функция find_Q_well(p0) принимает значение давления на стоке и возвращает систему уравнений, которые будут использованы для решения и нахождения значения дебитов каждой скважины на графе"
   ]
  },
  {
   "cell_type": "code",
   "execution_count": 1,
   "metadata": {},
   "outputs": [],
   "source": [
    "from sympy import symbols, Eq, solve\n",
    "\n",
    "# Создание классов вершин и ребр графа. Скважины и сток будут особыми узлами с отдельными классами\n",
    "class Well:\n",
    "    def __init__(self, idx, alpha, const, Q):\n",
    "        self.idx = idx\n",
    "        self.alpha = alpha\n",
    "        self.const = const\n",
    "        self.Q = Q\n",
    "          \n",
    "class Vertex:\n",
    "    def __init__(self, idx):\n",
    "        self.idx = idx\n",
    "        self.edge_input = []\n",
    "        self.Q = 0\n",
    "\n",
    "    def update_Q(self):\n",
    "        self.Q = sum(edge.Q_edge for edge in self.edge_input)\n",
    "\n",
    "class Edge:\n",
    "    def __init__(self, idx, vertex1, vertex2, length = 5, diameter = 2, roughness = 0.1, density = 1000):\n",
    "        self.idx = idx\n",
    "        self.vertex1 = vertex1\n",
    "        self.vertex2 = vertex2\n",
    "        self.length = length\n",
    "        self.diameter = diameter\n",
    "        self.roughness = roughness\n",
    "        self.density = density\n",
    "        self.update_Q_edge()\n",
    "\n",
    "    def update_Q_edge(self):\n",
    "        self.Q_edge = self.vertex1.Q\n",
    "        self.pressure_loss = self.density * self.length * self.Q_edge * self.roughness / self.diameter\n",
    "\n",
    "class Drain:\n",
    "    def __init__(self, p_0, alpha = 3, const = 10, idx=0):\n",
    "        self.p_0 = p_0\n",
    "        self.edge_input = []\n",
    "        self.alpha = alpha\n",
    "        self.const = const\n",
    "        self.idx = idx\n",
    "        self.Q_0 = self.alpha * self.p_0 + self.const"
   ]
  },
  {
   "cell_type": "code",
   "execution_count": 2,
   "metadata": {},
   "outputs": [],
   "source": [
    "# Создание графа\n",
    "def create_graph():\n",
    "    alpha = 3\n",
    "    const = 10\n",
    "    # Количество скважин\n",
    "    num_wells = int(input(\"Enter the number of Wells: \"))\n",
    "    wells = []\n",
    "    \n",
    "    # Создание списка из num_wells элементов - Q1, Q2, Q3\n",
    "    flow_rate = []\n",
    "    flow_rate = symbols(['Q{}'.format(i+1) for i in range(num_wells)])\n",
    "    \n",
    "    counter = 0\n",
    "    for i in range(num_wells):\n",
    "        counter = counter + 1\n",
    "        wells.append(Well(i+1, alpha, const, flow_rate[i]))\n",
    "\n",
    "    # Количество вершин\n",
    "    num_vertex = int(input(\"Enter the number of Vertex: \"))\n",
    "    vertex = []\n",
    "    for i in range(num_vertex):\n",
    "        vertex.append(Vertex(i + counter))\n",
    "\n",
    "    # Сток\n",
    "    drain = [Drain(100)]\n",
    "    common_vertex = drain + wells + vertex # A common array of all vertices\n",
    "    print(common_vertex)\n",
    "\n",
    "    # Количество ребр (труб)\n",
    "    num_edges = int(input(\"Enter the number of Edges: \"))\n",
    "    edges = []\n",
    "    for i in range(num_edges):\n",
    "        vertex1 = int(input(\"Enter the first vertex for edge {}: \".format(i + 1)))\n",
    "        vertex2 = int(input(\"Enter the second vertex for edge {}: \".format(i + 1)))\n",
    "        # length = float(input(\"Enter the length for edge {}: \".format(i + 1)))\n",
    "        # diameter = float(input(\"Enter the diameter for edge {}: \".format(i + 1)))\n",
    "        # roughness = float(input(\"Enter the roughness for edge {}: \".format(i + 1)))\n",
    "        # edges.append(Edge(i+1, common_vertex[vertex1], common_vertex[vertex2], length, diameter, roughness))\n",
    "        edges.append(Edge(i+1, common_vertex[vertex1], common_vertex[vertex2]))\n",
    "\n",
    "    for edge in edges:\n",
    "        edge.vertex2.edge_input.append(edge)\n",
    "        \n",
    "    # Обновление характеристик дебитов на узлах и гранях, после создания всех элементов графа и их связей\n",
    "    while edges[num_edges-1].Q_edge == 0:\n",
    "        for edge in edges:\n",
    "            edge.update_Q_edge()\n",
    "\n",
    "        for vert in vertex:\n",
    "            vert.update_Q()\n",
    "\n",
    "    return wells, vertex, drain, edges, flow_rate"
   ]
  },
  {
   "cell_type": "code",
   "execution_count": 3,
   "metadata": {},
   "outputs": [
    {
     "name": "stdout",
     "output_type": "stream",
     "text": [
      "[<__main__.Drain object at 0x107d27a90>, <__main__.Well object at 0x10c52c1c0>, <__main__.Well object at 0x107d64850>, <__main__.Vertex object at 0x107d27010>, <__main__.Vertex object at 0x107d26830>]\n"
     ]
    },
    {
     "ename": "ValueError",
     "evalue": "invalid literal for int() with base 10: ''",
     "output_type": "error",
     "traceback": [
      "\u001b[0;31m---------------------------------------------------------------------------\u001b[0m",
      "\u001b[0;31mValueError\u001b[0m                                Traceback (most recent call last)",
      "Cell \u001b[0;32mIn[3], line 1\u001b[0m\n\u001b[0;32m----> 1\u001b[0m wells, vertex, drain, edges, flow_rate \u001b[39m=\u001b[39m create_graph()\n",
      "Cell \u001b[0;32mIn[2], line 33\u001b[0m, in \u001b[0;36mcreate_graph\u001b[0;34m()\u001b[0m\n\u001b[1;32m     31\u001b[0m edges \u001b[39m=\u001b[39m []\n\u001b[1;32m     32\u001b[0m \u001b[39mfor\u001b[39;00m i \u001b[39min\u001b[39;00m \u001b[39mrange\u001b[39m(num_edges):\n\u001b[0;32m---> 33\u001b[0m     vertex1 \u001b[39m=\u001b[39m \u001b[39mint\u001b[39;49m(\u001b[39minput\u001b[39;49m(\u001b[39m\"\u001b[39;49m\u001b[39mEnter the first vertex for edge \u001b[39;49m\u001b[39m{}\u001b[39;49;00m\u001b[39m: \u001b[39;49m\u001b[39m\"\u001b[39;49m\u001b[39m.\u001b[39;49mformat(i \u001b[39m+\u001b[39;49m \u001b[39m1\u001b[39;49m)))\n\u001b[1;32m     34\u001b[0m     vertex2 \u001b[39m=\u001b[39m \u001b[39mint\u001b[39m(\u001b[39minput\u001b[39m(\u001b[39m\"\u001b[39m\u001b[39mEnter the second vertex for edge \u001b[39m\u001b[39m{}\u001b[39;00m\u001b[39m: \u001b[39m\u001b[39m\"\u001b[39m\u001b[39m.\u001b[39mformat(i \u001b[39m+\u001b[39m \u001b[39m1\u001b[39m)))\n\u001b[1;32m     35\u001b[0m     \u001b[39m# length = float(input(\"Enter the length for edge {}: \".format(i + 1)))\u001b[39;00m\n\u001b[1;32m     36\u001b[0m     \u001b[39m# diameter = float(input(\"Enter the diameter for edge {}: \".format(i + 1)))\u001b[39;00m\n\u001b[1;32m     37\u001b[0m     \u001b[39m# roughness = float(input(\"Enter the roughness for edge {}: \".format(i + 1)))\u001b[39;00m\n\u001b[1;32m     38\u001b[0m     \u001b[39m# edges.append(Edge(i+1, common_vertex[vertex1], common_vertex[vertex2], length, diameter, roughness))\u001b[39;00m\n",
      "\u001b[0;31mValueError\u001b[0m: invalid literal for int() with base 10: ''"
     ]
    }
   ],
   "source": [
    "wells, vertex, drain, edges, flow_rate = create_graph()"
   ]
  },
  {
   "cell_type": "code",
   "execution_count": null,
   "metadata": {},
   "outputs": [],
   "source": [
    "# Нахождение всех граней графа, ведущих от скважины до стока\n",
    "def find_pipes(well, edges, drain):\n",
    "    pipes = []\n",
    "    visited = set()\n",
    "    queue = []\n",
    "    queue.append(well)\n",
    "    while queue:\n",
    "        curr = queue.pop(0)\n",
    "        visited.add(curr)\n",
    "        for edge in edges:\n",
    "            if edge.vertex1 == curr and edge.vertex2 not in visited:\n",
    "                queue.append(edge.vertex2)\n",
    "                pipes.append(edge)\n",
    "                if edge.vertex2 == drain:\n",
    "                    return pipes\n",
    "    return pipes"
   ]
  },
  {
   "cell_type": "code",
   "execution_count": null,
   "metadata": {},
   "outputs": [],
   "source": [
    "pipes_from_wells_to_drain = []\n",
    "for well in wells:\n",
    "    pipes_from_wells_to_drain.append(find_pipes(well, edges, drain[0]))"
   ]
  },
  {
   "cell_type": "code",
   "execution_count": null,
   "metadata": {},
   "outputs": [
    {
     "name": "stdout",
     "output_type": "stream",
     "text": [
      "Q1 + Q2\n"
     ]
    }
   ],
   "source": [
    "# Проверка дебита на последней заданной трубе\n",
    "print(pipes_from_wells_to_drain[1][-1].Q_edge)"
   ]
  },
  {
   "cell_type": "code",
   "execution_count": null,
   "metadata": {},
   "outputs": [],
   "source": [
    "alpha = drain[0].alpha\n",
    "const = drain[0].const\n",
    "p0 = drain[0].p_0\n",
    "\n",
    "# Нахождение уравнений от-но дебитов каждой скважины\n",
    "def find_Q_well(p0):\n",
    "    p0 = p0\n",
    "    Q_well = []\n",
    "    for well in range(len(wells)):\n",
    "        Q_well.append(alpha * (p0 + sum(edge.pressure_loss for edge in pipes_from_wells_to_drain[well])) + const)\n",
    "    return Q_well"
   ]
  },
  {
   "cell_type": "code",
   "execution_count": null,
   "metadata": {},
   "outputs": [
    {
     "name": "stdout",
     "output_type": "stream",
     "text": [
      "Q0: -9.19437649726549e-8\n",
      "p0: -3.33328737677481\n"
     ]
    }
   ],
   "source": [
    "p0 = drain[0].p_0\n",
    "Q0_prev = 0\n",
    "eps = 0.001\n",
    "\n",
    "# Итерационный поиск Q0\n",
    "while True:\n",
    "\n",
    "    Q_well = find_Q_well(p0)\n",
    "    flow_rate = symbols(['Q{}'.format(i+1) for i in range(len(Q_well))])\n",
    "\n",
    "    # Решение системы уравнений от-но Q скважин\n",
    "    eqs = [Eq(Q_well[i], flow_rate[i]) for i in range(len(Q_well))]\n",
    "    sol = solve(eqs, flow_rate)\n",
    "\n",
    "    # Нахождение нового Q0\n",
    "    Q0 = sum(sol.get(well) for well in flow_rate)\n",
    "\n",
    "    # Проверка сходимости\n",
    "    if abs(Q0 - Q0_prev) < eps:\n",
    "        break\n",
    "\n",
    "    Q0_prev = Q0\n",
    "\n",
    "    # Нахождение нового p0\n",
    "    p0 = (Q0-const)/alpha\n",
    "\n",
    "print(\"Q0:\", Q0)\n",
    "print(\"p0:\", p0)"
   ]
  },
  {
   "cell_type": "code",
   "execution_count": null,
   "metadata": {},
   "outputs": [
    {
     "name": "stdout",
     "output_type": "stream",
     "text": [
      "k function: -500.000000091944\n"
     ]
    }
   ],
   "source": [
    "# Нахождение целевой функции\n",
    "def find_k():\n",
    "    k = Q0 - sum(edge.length*edge.diameter/edge.roughness for edge in edges)\n",
    "    return k\n",
    "\n",
    "k = find_k()\n",
    "print(\"k function:\", k)"
   ]
  },
  {
   "attachments": {},
   "cell_type": "markdown",
   "metadata": {},
   "source": [
    "### Этап 2\n",
    "1. дополните параметры труб (шероховатость, длину, диаметр)   +\n",
    "2. индивидуальные параметры альфа и константа для каждой трубы +\n",
    "3. график сходимости по итерациям\n",
    "4. подобрать константы что бы числа были физичные\n",
    "\n",
    "### Новое уравнение для лупингов:\n",
    "1. пропорционально пропускной способности\n",
    "2. функция потенциала проводимости, зависящая от потенциально возможного дебита"
   ]
  },
  {
   "cell_type": "code",
   "execution_count": 51,
   "metadata": {},
   "outputs": [],
   "source": [
    "import matplotlib.pyplot as plt\n",
    "from sympy import symbols, Eq, solve\n",
    "\n",
    "\n",
    "# Создание классов вершин и ребр графа. Скважины и сток будут особыми узлами с отдельными классами\n",
    "class Well:\n",
    "    def __init__(self, idx, alpha, const, Q):\n",
    "        self.idx = idx\n",
    "        self.alpha = alpha\n",
    "        self.const = const\n",
    "        self.Q = Q\n",
    "        self.edge_output = []\n",
    "        self.Q_vertex_list = [self.Q]\n",
    "\n",
    "class Vertex:\n",
    "    def __init__(self, idx):\n",
    "        self.idx = idx\n",
    "        self.edge_input = []\n",
    "        self.edge_output = []\n",
    "        self.Q = 0\n",
    "        self.Q_vertex_list = []\n",
    "        self.visited = False\n",
    "        self.k = []\n",
    "        self.count = 0\n",
    "        \n",
    "    def update_Q(self):\n",
    "        self.Q_vertex_list = self.Q_vertex_list + self.edge_input[self.count].vertex1.Q_vertex_list\n",
    "        self.Q = self.Q + self.edge_input[self.count].Q_edge\n",
    "        self.count += 1\n",
    "        self.visited = False\n",
    "\n",
    "class Edge:\n",
    "    def __init__(self, idx, vertex1, vertex2, length, diameter, roughness, density = 1000):\n",
    "        self.idx = idx\n",
    "        self.vertex1 = vertex1\n",
    "        self.vertex2 = vertex2\n",
    "        self.double_index = str(self.vertex1.idx) + str(self.vertex2.idx)\n",
    "        self.length = length\n",
    "        self.diameter = diameter\n",
    "        self.roughness = roughness\n",
    "        self.density = density\n",
    "        self.pot = self.diameter / (self.roughness * self.length) # Коэффициент распределения дебита при разветвлении на графе с привязкой характеристик труб\n",
    "        self.Q_edge = 0\n",
    "\n",
    "    def update_Q_edge(self, k = None):\n",
    "        if len(self.vertex1.edge_output)>1:\n",
    "            self.x = symbols('x')\n",
    "            self.eqs = Eq(self.x * sum(edge.pot for edge in self.vertex1.edge_output), 1)\n",
    "            self.sol_x = solve(self.eqs, self.x)\n",
    "            self.sol_x = self.sol_x[0]\n",
    "            self.prop_koef = self.sol_x * self.pot\n",
    "            \n",
    "            for i in range(len(self.vertex1.Q_vertex_list)):\n",
    "                self.Q_edge = self.Q_edge + self.vertex1.Q_vertex_list[i] * k[i]\n",
    "\n",
    "            self.Q_edge = self.Q_edge * self.prop_koef\n",
    "            self.pressure_loss = self.density * self.length * self.Q_edge * self.roughness / self.diameter\n",
    "\n",
    "        else:\n",
    "            self.Q_edge = self.vertex1.Q\n",
    "            self.pressure_loss = self.density * self.length * self.Q_edge * self.roughness / self.diameter\n",
    "\n",
    "class Drain:\n",
    "    def __init__(self, p_0, alpha, const, idx=0):\n",
    "        self.p_0 = p_0\n",
    "        self.edge_input = []\n",
    "        self.alpha = alpha\n",
    "        self.const = const\n",
    "        self.idx = idx\n",
    "        self.visited = False\n",
    "        self.Q_0 = self.alpha * self.p_0 + self.const\n"
   ]
  },
  {
   "cell_type": "code",
   "execution_count": 108,
   "metadata": {},
   "outputs": [
    {
     "name": "stdout",
     "output_type": "stream",
     "text": [
      "[<__main__.Drain object at 0x154642ce0>, <__main__.Well object at 0x155022290>, <__main__.Well object at 0x1550215a0>, <__main__.Vertex object at 0x1550b07f0>, <__main__.Vertex object at 0x1550deb30>]\n",
      "[<__main__.Edge object at 0x1550de800>, <__main__.Edge object at 0x1546436a0>]\n",
      "1\n",
      "2\n",
      "edge 1 No Loop\n",
      "edge 2 No Loop\n",
      "edge 3 Loop: [Q1, Q2]\n",
      "edge 34 Loop: [Q1, Q2]\n",
      "0.590163934426229*Q1*k1 + 0.590163934426229*Q2*k2\n",
      "edge 4 No Loop\n",
      "edge 5 Loop: [Q1, Q2]\n",
      "edge 30 Loop: [Q1, Q2]\n",
      "0.409836065573771*Q1*k1 + 0.409836065573771*Q2*k2\n"
     ]
    }
   ],
   "source": [
    "# Создание графа\n",
    "def create_graph(p_0, dw_parameters, edge_parameters, edge_vertexes):\n",
    "    # alpha = 3\n",
    "    # const = 10\n",
    "\n",
    "    # Сток\n",
    "    # dw_parameters = [] # Alpha и Const для стока и скважин\n",
    "    # alpha = int(input(\"Enter alpha for Drain: \"))\n",
    "    # const = int(input(\"Enter const for Drain: \"))\n",
    "    # dw_parameters.append([alpha, const]) # Drain Well Alpha and Const\n",
    "\n",
    "    drain = [Drain(p_0, dw_parameters[0][0], dw_parameters[0][1])]\n",
    "\n",
    "    # Количество скважин\n",
    "    num_wells = int(input(\"Enter the number of Wells: \"))\n",
    "    wells = []\n",
    "    \n",
    "    # Создание списка из num_wells элементов - Q1, Q2, Q3\n",
    "    flow_rate = []\n",
    "    flow_rate = symbols(['Q{}'.format(i+1) for i in range(num_wells)])\n",
    "    \n",
    "    counter = 0\n",
    "    for i in range(num_wells):\n",
    "        counter = counter + 1\n",
    "        # alpha = int(input(\"Enter alpha for well {}: \".format(i + 1)))\n",
    "        # const = int(input(\"Enter const for well {}: \".format(i + 1)))\n",
    "        # dw_parameters.append([alpha, const])\n",
    "        wells.append(Well(i+1, dw_parameters[i+1][0], dw_parameters[i+1][1], flow_rate[i]))\n",
    "\n",
    "    # Количество вершин\n",
    "    num_vertex = int(input(\"Enter the number of Vertex: \"))\n",
    "    vertex = []\n",
    "    for i in range(num_vertex):\n",
    "        vertex.append(Vertex(i+1 + counter))\n",
    "\n",
    "   \n",
    "    common_vertex = drain + wells + vertex # A common array of all vertices\n",
    "    print(common_vertex)\n",
    "\n",
    "    # Количество ребр (труб)\n",
    "    num_edges = int(input(\"Enter the number of Edges: \"))\n",
    "    edges = []\n",
    "\n",
    "    # edge_parameters = []\n",
    "    # edge_vertexes = []\n",
    "\n",
    "    for i in range(num_edges):\n",
    "        # vertex1 = int(input(\"Enter the first vertex for edge {}: \".format(i + 1)))\n",
    "        # vertex2 = int(input(\"Enter the second vertex for edge {}: \".format(i + 1)))\n",
    "        # length = float(input(\"Enter the length for edge {}: \".format(i + 1)))\n",
    "        # diameter = float(input(\"Enter the diameter for edge {}: \".format(i + 1)))\n",
    "        # roughness = float(input(\"Enter the roughness for edge {}: \".format(i + 1)))\n",
    "        # edge_parameters.append([length, diameter, roughness])\n",
    "        # edge_vertexes.append([vertex1, vertex2])\n",
    "        edges.append(Edge(i+1, common_vertex[edge_vertexes[i][0]], common_vertex[edge_vertexes[i][1]], edge_parameters[i][0], edge_parameters[i][1], edge_parameters[i][2]))\n",
    "\n",
    "        # edges.append(Edge(i+1, common_vertex[vertex1], common_vertex[vertex2]))\n",
    "\n",
    "    for edge in edges:\n",
    "        edge.vertex2.edge_input.append(edge)\n",
    "        edge.vertex1.edge_output.append(edge)\n",
    "        # print(edge.vertex1.edge_output)\n",
    "        \n",
    "    print(edges[-1].vertex1.edge_output)\n",
    "    print(len(edges[0].vertex1.edge_output))\n",
    "    print(len(edges[-1].vertex1.edge_output))\n",
    "\n",
    "\n",
    "    counter_k = 0\n",
    "    # for edge in edges:\n",
    "    #     if len(edge.vertex1.edge_output) > 1:\n",
    "    #         for i in range(len(edge.vertex1.Q_vertex_list)):\n",
    "    #             counter_k = counter_k + 1\n",
    "    #             k = k + symbols(['k{}'.format(counter_k)])\n",
    "    # print(k)\n",
    "        \n",
    "    # Обновление характеристик дебитов на узлах и гранях, после создания всех элементов графа и их связей\n",
    "    while edges[num_edges-1].Q_edge == 0:\n",
    "        for edge in edges:\n",
    "            if len(edge.vertex1.edge_output) > 1:\n",
    "                print('edge '+ f'{edge.idx}' + ' Loop: ' + f'{edge.vertex1.Q_vertex_list}')\n",
    "                print('edge '+ f'{edge.double_index}' + ' Loop: ' + f'{edge.vertex1.Q_vertex_list}')\n",
    "\n",
    "\n",
    "\n",
    "                # for i in range(len(edge.vertex1.Q_vertex_list)):\n",
    "                #     counter_k = counter_k + 1\n",
    "                #     k = k + symbols(['k{}'.format(counter_k)])\n",
    "                if edge.vertex1.k == []:\n",
    "                    for i in range(len(edge.vertex1.Q_vertex_list)):\n",
    "                        counter_k = counter_k + 1\n",
    "                        edge.vertex1.k = edge.vertex1.k + symbols(['k{}'.format(counter_k)])\n",
    "\n",
    "\n",
    "                edge.update_Q_edge(edge.vertex1.k)\n",
    "                print(edge.Q_edge)\n",
    "\n",
    "\n",
    "                if edge.vertex2.visited == False and edge.vertex2.idx != 0 :\n",
    "                    edge.vertex2.update_Q()\n",
    "\n",
    "            else:\n",
    "\n",
    "                print('edge '+ f'{edge.idx}' + ' No Loop')\n",
    "                edge.update_Q_edge()\n",
    "                if edge.vertex2.visited == False and edge.vertex2.idx != 0 :\n",
    "                    edge.vertex2.update_Q()\n",
    "                # k.pop(0) - Неправильно\n",
    "\n",
    "        # for vert in vertex:\n",
    "        #     vert.update_Q()\n",
    "    return wells, vertex, drain, edges, flow_rate, dw_parameters, edge_parameters, edge_vertexes, common_vertex\n",
    "\n",
    "# Тестовые параметры для тестового графа (на 2 скважины, 3 узла, 5 ребр)\n",
    "# Graph 1 \n",
    "# dw_parameters = [[10, -50000], [20, -20e9], [30, -30e9]] # [[alpha, const]]\n",
    "# edge_parameters = [[100.0, 2.0, 0.1], [120.0, 2.0, 0.1], [135.0, 2.0, 0.1], [96.0, 2.0, 0.1], [220.0, 5.0, 0.1]] #[[length, diametr, roughness]]\n",
    "# edge_vertexes = [[1, 3], [2, 4], [3, 5], [4, 5], [5, 0]]\n",
    "\n",
    "# Graph 2\n",
    "# dw_parameters = [[100, 100], [10, 110], [40, -840], [32, -60], [16, 78]] # [[alpha, const]]\n",
    "# edge_parameters = [[100.0, 2.0, 0.1], [80.0, 2.0, 0.1], [70.0, 2.0, 0.1], [85.0, 2.0, 0.1], [120.0, 5.0, 0.1], [60.0, 5.0, 0.1], [92.0, 5.0, 0.1], [320.0, 5.0, 0.1]] #[[length, diametr, roughness]]\n",
    "# edge_vertexes = [[1, 5], [2, 5], [3, 6], [4, 7], [5, 8], [6, 8], [7, 8], [8, 0]]\n",
    "\n",
    "# Graph 3 with loop\n",
    "dw_parameters = [[10, -500], [10, -500], [10, -500]] # [[alpha, const]]\n",
    "edge_parameters = [[-11.0, 1.5, 0.1], [-10.0, 1.5, 0.1], [-8.0, 1.8, 0.1], [-9.0, 1.8, 0.1], [-16.0, 2.5, 0.1]] #[[length, diametr, roughness]]\n",
    "edge_vertexes = [[1, 3], [2, 3], [3, 4], [4, 0], [3, 0]]\n",
    "\n",
    "# # Original Graph\n",
    "# dw_parameters = [[-15, 500], [-23, 300], [-6, 800], [-36, 500], [-20, 500], [-12, 500]] # [[alpha, const]] # Parameters of Wells + Drain\n",
    "# edge_parameters = [[-11.0, 1.5, 0.1], [-10.0, 1.5, 0.1], [-8.0, 1.8, 0.1], [-9.0, 1.8, 0.1], [-16.0, 2.5, 0.1], [-11.0, 1.5, 0.1], [-10.0, 1.5, 0.1], [-8.0, 1.8, 0.1], [-9.0, 1.8, 0.1], [-16.0, 2.5, 0.1]] #[[length, diametr, roughness]]\n",
    "# edge_vertexes = [[1, 6], [2, 6], [3, 7], [4, 8], [5, 8], [6, 7], [8, 7], [7, 9], [8, 9], [9, 0]] # Vertex Conections\n",
    "\n",
    "p_0 = 100\n",
    "\n",
    "# Создание графа\n",
    "wells, vertex, drain, edges, flow_rate, dw_parameters, edge_parameters, edge_vertexes, common_vertex = create_graph(p_0, dw_parameters, edge_parameters, edge_vertexes)"
   ]
  },
  {
   "cell_type": "code",
   "execution_count": 109,
   "metadata": {},
   "outputs": [
    {
     "name": "stdout",
     "output_type": "stream",
     "text": [
      "edge 13: Q1\n",
      "edge 23: Q2\n",
      "edge 34: 0.590163934426229*Q1*k1 + 0.590163934426229*Q2*k2\n",
      "0.590163934426229\n",
      "edge 40: 0.590163934426229*Q1*k1 + 0.590163934426229*Q2*k2\n",
      "edge 30: 0.409836065573771*Q1*k1 + 0.409836065573771*Q2*k2\n",
      "0.409836065573771\n"
     ]
    }
   ],
   "source": [
    "# Check Debits on Edges\n",
    "for edge in edges:\n",
    "    print('edge ' + f'{edge.double_index}: ' + f'{edge.Q_edge}')\n",
    "    if len(edge.vertex1.edge_output) > 1:\n",
    "        print(edge.prop_koef)"
   ]
  },
  {
   "cell_type": "code",
   "execution_count": 92,
   "metadata": {},
   "outputs": [],
   "source": [
    "# print(vertex[0].edge_input)"
   ]
  },
  {
   "cell_type": "code",
   "execution_count": 110,
   "metadata": {},
   "outputs": [
    {
     "name": "stdout",
     "output_type": "stream",
     "text": [
      "[[[<__main__.Edge object at 0x155023a60>, <__main__.Edge object at 0x1546436a0>], [<__main__.Edge object at 0x155023a60>, <__main__.Edge object at 0x1550de800>, <__main__.Edge object at 0x154640610>]], [[<__main__.Edge object at 0x1550dfb50>, <__main__.Edge object at 0x1546436a0>], [<__main__.Edge object at 0x1550dfb50>, <__main__.Edge object at 0x1550de800>, <__main__.Edge object at 0x154640610>]]]\n",
      "2\n",
      "2\n",
      "2\n"
     ]
    }
   ],
   "source": [
    "# Finding all graph edges leading from the well to the drain\n",
    "# def find_pipes(well, edges, drain):\n",
    "#     pipes = []\n",
    "#     visited = set()\n",
    "#     stack = []\n",
    "#     stack.append((well, []))\n",
    "#     while stack:\n",
    "#         curr, path = stack.pop()\n",
    "#         visited.add(curr)\n",
    "#         for edge in edges:\n",
    "#             if edge.vertex1 == curr and edge.vertex2 not in visited:\n",
    "#                 new_path = path[:] + [edge]\n",
    "#                 if edge.vertex2 == drain:\n",
    "#                     pipes.append(new_path)\n",
    "#                 else:\n",
    "#                     stack.append((edge.vertex2, new_path))\n",
    "#     return pipes\n",
    "def find_pipes(well, edges, drain):\n",
    "    pipes = []\n",
    "    stack = []\n",
    "    stack.append((well, []))\n",
    "    while stack:\n",
    "        curr, path = stack.pop()\n",
    "        for edge in edges:\n",
    "            if edge.vertex1 == curr and edge.vertex2 not in path:  # Modify this line\n",
    "                new_path = path[:] + [edge]\n",
    "                if edge.vertex2 == drain:\n",
    "                    pipes.append(new_path)\n",
    "                else:\n",
    "                    stack.append((edge.vertex2, new_path))\n",
    "    return pipes\n",
    "\n",
    "\n",
    "pipes_from_wells_to_drain = []\n",
    "for well in wells:\n",
    "    pipes_from_wells_to_drain.append(find_pipes(well, edges, drain[0]))\n",
    "\n",
    "print(pipes_from_wells_to_drain)\n",
    "print(len(pipes_from_wells_to_drain))\n",
    "for well in range(len(wells)):\n",
    "    print(len(pipes_from_wells_to_drain[well]))"
   ]
  },
  {
   "cell_type": "code",
   "execution_count": 111,
   "metadata": {},
   "outputs": [
    {
     "name": "stdout",
     "output_type": "stream",
     "text": [
      "edge: 13\n",
      "edge: 30\n",
      "end way ------------\n",
      "edge: 13\n",
      "edge: 34\n",
      "edge: 40\n",
      "end way ------------\n",
      "end well -----------\n",
      "edge: 23\n",
      "edge: 30\n",
      "end way ------------\n",
      "edge: 23\n",
      "edge: 34\n",
      "edge: 40\n",
      "end way ------------\n",
      "end well -----------\n"
     ]
    }
   ],
   "source": [
    "# Проверка путей:\n",
    "for well in range(len(wells)):\n",
    "    for way in range(len(pipes_from_wells_to_drain[well])):\n",
    "        for edge in pipes_from_wells_to_drain[well][way]:\n",
    "            print('edge: ' + f'{edge.double_index}')\n",
    "        print('end way ------------')\n",
    "    print('end well -----------')"
   ]
  },
  {
   "cell_type": "code",
   "execution_count": 22,
   "metadata": {},
   "outputs": [],
   "source": [
    "# # Проверка дебитов на последних трубах\n",
    "# print(pipes_from_wells_to_drain[0][0][-1].Q_edge)\n",
    "# print(pipes_from_wells_to_drain[0][0][-1].idx)\n",
    "# print(pipes_from_wells_to_drain[0][1][-1].Q_edge)\n",
    "# print(pipes_from_wells_to_drain[0][1][-1].idx)\n",
    "\n",
    "# for i in range(len(pipes_from_wells_to_drain[1][0])):\n",
    "#     print(pipes_from_wells_to_drain[1][0][i].idx)\n",
    "#     print(pipes_from_wells_to_drain[1][0][i].pressure_loss)"
   ]
  },
  {
   "cell_type": "code",
   "execution_count": 112,
   "metadata": {},
   "outputs": [
    {
     "name": "stdout",
     "output_type": "stream",
     "text": [
      "[Q1, Q2]\n",
      "[k1, k2]\n"
     ]
    }
   ],
   "source": [
    "# Параметры alpha и const задаются непосредственно на скважинах, а не трубах !\n",
    "p0 = drain[0].p_0\n",
    "# Finding equations from each well's flow rate\n",
    "def find_Q_well(p0, pipes_from_wells_to_drain):\n",
    "\n",
    "    Q_well = []\n",
    "    for well in range(len(wells)):\n",
    "        for way in range(len(pipes_from_wells_to_drain[well])):\n",
    "            pipes = pipes_from_wells_to_drain[well][way]\n",
    "            pressure_loss = sum(edge.pressure_loss for edge in pipes)\n",
    "            Q_well.append(wells[well].alpha * (p0 + pressure_loss) + wells[well].const)\n",
    "\n",
    "    return Q_well\n",
    "\n",
    "k_list = []\n",
    "for vert in vertex:\n",
    "    if vert.k != [pipes_from_wells_to_drain]:\n",
    "        k_list = k_list + vert.k\n",
    "\n",
    "# flow_rate = []\n",
    "# for well in range(len(wells)):\n",
    "#     for way in range(len(pipes_from_wells_to_drain[well])):\n",
    "#         flow_rate = flow_rate + symbols(['Q{}'.format(well+1)])\n",
    "\n",
    "print(flow_rate)\n",
    "print(k_list)"
   ]
  },
  {
   "cell_type": "code",
   "execution_count": 113,
   "metadata": {},
   "outputs": [
    {
     "name": "stdout",
     "output_type": "stream",
     "text": [
      "[-2622.95081967213*Q1*k1 - 7333.33333333333*Q1 - 2622.95081967213*Q2*k2 + 500, -5573.77049180328*Q1*k1 - 7333.33333333333*Q1 - 5573.77049180328*Q2*k2 + 500, -2622.95081967213*Q1*k1 - 2622.95081967213*Q2*k2 - 6666.66666666667*Q2 + 500, -5573.77049180328*Q1*k1 - 5573.77049180328*Q2*k2 - 6666.66666666667*Q2 + 500]\n",
      "[Q1, Q2]\n",
      "[Q1, Q2]\n"
     ]
    }
   ],
   "source": [
    "Q_well = find_Q_well(p0, pipes_from_wells_to_drain)\n",
    "print(Q_well)\n",
    "print(flow_rate)\n",
    "\n",
    "# flow_rate = []\n",
    "# for well in range(len(wells)):\n",
    "#     for way in range(len(pipes_from_wells_to_drain[well])):\n",
    "#         flow_rate = flow_rate + symbols(['Q{}'.format(well+1)])\n",
    "        \n",
    "print(flow_rate)\n",
    "\n",
    "# for i in range(len(Q_well)):\n",
    "#     Q_well[i] = Q_well[i]- flow_rate[i]"
   ]
  },
  {
   "cell_type": "code",
   "execution_count": 115,
   "metadata": {},
   "outputs": [],
   "source": [
    "from sympy import symbols, lambdify\n",
    "import numpy as np\n",
    "from scipy.optimize import least_squares\n",
    "def find_Q_drain_2(drain, p0, pipes_from_wells_to_drain, flow_rate, k_list):\n",
    "\n",
    "    # flow_rate_origin = symbols(['Q{}'.format(i+1) for i in range(len(wells))])\n",
    "    residual_history = []\n",
    "\n",
    "    def residual(vars, *params):\n",
    "        p0 = drain[0].p_0\n",
    "        Q_well = find_Q_well(p0, pipes_from_wells_to_drain)\n",
    "        # print('Q_well: ' + f'{Q_well}')\n",
    "        # print('len(Q_well): ' + f'{len(Q_well)}')\n",
    "\n",
    "        # Создание списка переменных для Q_well (Отличается размерность с обычным)\n",
    "        flow_rate_multi = []\n",
    "        for well in range(len(wells)):\n",
    "            for _ in range(len(pipes_from_wells_to_drain[well])):\n",
    "                flow_rate_multi = flow_rate_multi + symbols(['Q{}'.format(well+1)])\n",
    "        # print('flow_rate_multi: '+ f'{flow_rate_multi}')\n",
    "\n",
    "        # Вычитание правой части уравнения из левой\n",
    "        for i in range(len(Q_well)):\n",
    "            Q_well[i] = Q_well[i]- flow_rate_multi[i]\n",
    "        # print(Q_well)\n",
    "\n",
    "        # flow_rate_origin = symbols(['Q{}'.format(i+1) for i in range(len(wells))])\n",
    "        # k_list = [k for vert in vertex if vert.k != pipes_from_wells_to_drain for k in vert.k]\n",
    "        # common_list_var = flow_rate_origin + k_list\n",
    "        common_list_var = flow_rate + k_list\n",
    "        # print('common_list_var: ' + f'{common_list_var}')\n",
    "        # print('Q_well: ' + f'{Q_well}')\n",
    "        \n",
    "        r = np.zeros(len(Q_well))\n",
    "        for i in range(len(Q_well)):\n",
    "            # Convert the symbolic expression to a numerical function\n",
    "            Q_well_num = lambdify(common_list_var, Q_well[i], \"numpy\")\n",
    "            \n",
    "            # Evaluate the numerical function with the current variable values\n",
    "            r[i] = Q_well_num(*vars)\n",
    "        \n",
    "\n",
    "        residual_norm = np.linalg.norm(r)\n",
    "        residual_history.append(residual_norm)\n",
    "        # print('r: ' + f'{r}')\n",
    "        # print('len(r): ' + f'{len(r)}')\n",
    "        return r\n",
    "    \n",
    "    # initial_guess = np.ones(len(flow_rate_origin) + len(k_list))  # Initial guess_1 for Q1, Q2, k1, k2\n",
    "    # initial_guess = np.zeros(len(flow_rate_origin) + len(k_list))  # Initial guess_2 for Q1, Q2, k1, k2\n",
    "    # initial_guess = np.random.randint(1, 15, len(flow_rate_origin) + len(k_list)).tolist()  # Initial guess_3 for Q1, Q2, k1, k2\n",
    "\n",
    "    initial_guess = np.random.randint(1, 15, len(flow_rate) + len(k_list)).tolist()  # Initial guess_3 for Q1, Q2, k1, k2\n",
    "    # print('initial_guess: ' + f'{initial_guess}')\n",
    "    # print('len(initial_guess): ' + f'{len(initial_guess)}')\n",
    "\n",
    "\n",
    "    result = least_squares(residual, initial_guess, method = 'lm')\n",
    "    solution = result.x\n",
    "\n",
    "    # # Split the solution into Q and k values\n",
    "    # Q_values = solution[:len(flow_rate_origin)]\n",
    "    # k_values = solution[len(flow_rate_origin):]\n",
    "\n",
    "    Q_values = solution[:len(flow_rate)]\n",
    "    k_values = solution[len(flow_rate):]\n",
    "    alpha = drain[0].alpha\n",
    "    const = drain[0].const\n",
    "    # Поиск Q0\n",
    "    Q0 = sum(Q_values)\n",
    "    # Finding a new p0\n",
    "    p0 = (Q0-const)/alpha\n",
    "    \n",
    "    return Q_values, k_values, Q0, p0, residual_history\n",
    "\n",
    "# print(f'Q_values: {Q_values}')\n",
    "# print(f'k_values: {k_values}')"
   ]
  },
  {
   "cell_type": "code",
   "execution_count": 25,
   "metadata": {},
   "outputs": [],
   "source": [
    "# for i in range(len(pipes_from_wells_to_drain[1][1])):\n",
    "#     print(pipes_from_wells_to_drain[1][1][i].idx)\n",
    "#     print(pipes_from_wells_to_drain[1][1][i].Q_edge)\n",
    "#     print(pipes_from_wells_to_drain[1][1][i].pressure_loss)\n",
    "#     # print('Pressure Loss Well_1 Way_1: ', + str(pipes_from_wells_to_drain[1][1][i].pressure_loss))\n",
    "#     # print('Pressure Loss Well_1 Way_2: ', + str(pipes_from_wells_to_drain[1][2][i].pressure_loss))\n",
    "# print(vertex[1].Q)\n",
    "# print(vertex[1].edge_input)\n",
    "# print(vertex[1].edge_output)\n",
    "# print(vertex[1].Q_vertex_list)"
   ]
  },
  {
   "cell_type": "code",
   "execution_count": 26,
   "metadata": {},
   "outputs": [],
   "source": [
    "# def find_Q_drain(drain, p0, pipes_from_wells_to_drain, flow_rate, k_list):\n",
    "\n",
    "#     alpha = drain[0].alpha\n",
    "#     const = drain[0].const\n",
    "\n",
    "#     Q_well = find_Q_well(p0, pipes_from_wells_to_drain)\n",
    "#     print(Q_well)\n",
    "\n",
    "#     flow_rate_origin = symbols(['Q{}'.format(i+1) for i in range(len(wells))])\n",
    "#     common_list_var = flow_rate_origin + k_list\n",
    "\n",
    "#     # Solving a system of equations from Q wells\n",
    "#     eqs = [Eq(Q_well[i], flow_rate[i]) for i in range(len(Q_well))]\n",
    "#     print(eqs)\n",
    "#     print(common_list_var)\n",
    "#     sol = solve(eqs, common_list_var)\n",
    "#     print(sol)\n",
    "#     # Finding a new Q0\n",
    "#     Q0 = sum(sol.get(well) for well in flow_rate_origin)\n",
    "\n",
    "#     # Finding a new p0\n",
    "#     p0 = (Q0-const)/alpha\n",
    "#     return Q0, p0, Q_well"
   ]
  },
  {
   "cell_type": "code",
   "execution_count": null,
   "metadata": {},
   "outputs": [],
   "source": [
    "# import numpy as np\n",
    "# from scipy.optimize import least_squares\n",
    "\n",
    "# def residual(vars, *params):\n",
    "#     Q1, Q2, k1, k2 = vars\n",
    "#     r = np.zeros(4)\n",
    "#     r[0] = 7332 * Q1 + 2623 * Q1 * k1 + 2623 * Q2 * k2 + 500\n",
    "#     r[1] = 7332 * Q1 + 5574 * Q1 * k1 + 5574 * Q2 * k2 + 500\n",
    "#     r[2] = 6665 * Q1 + 2623 * Q1 * k1 + 2623 * Q2 * k2 + 500\n",
    "#     r[3] = 6665 * Q1 + 5574 * Q1 * k1 + 5574 * Q2 * k2 + 500\n",
    "#     print(Q1)\n",
    "#     return r\n",
    "\n",
    "# initial_guess = np.array([1, 1, 1, 1])  # Initial guess for Q1, Q2, k1, k2\n",
    "# result = least_squares(residual, initial_guess)\n",
    "# Q1, Q2, k1, k2 = result.x\n",
    "\n",
    "# print(\"Q1:\", Q1)\n",
    "# print(\"Q2:\", Q2)\n",
    "# print(\"k1:\", k1)\n",
    "# print(\"k2:\", k2)"
   ]
  },
  {
   "cell_type": "code",
   "execution_count": 116,
   "metadata": {},
   "outputs": [
    {
     "name": "stdout",
     "output_type": "stream",
     "text": [
      "[1714821.09368153, 1714821.09368153, 1714821.09368153, 1714821.1039655956, 1714821.108964424, 1714821.1030253523, 1714821.1082163644, 14661.982834771925, 14661.982856463532, 14661.98304558121, 14661.982849453041, 14661.983038570683, 0.7701297290390479, 0.7701746325743881, 0.7700988575180684, 0.7701676232388501, 0.7701676117638763, 0.0002575390890209449, 0.00032246385807037175, 0.00020674481922015837, 0.0003154139912873614, 0.0003154139869777953, 4.473689016311027e-12, 6.537735595488133e-05, 5.148655467523451e-05, 5.789222117950714e-05, 5.789222117950714e-05, 2.898457019905882e-13, 2.898457019905882e-13, 0.3897127849967466, 0.3897127849967807, 0.2790129089096634, 0.2790129089102856, 0.02352593397547552, 0.02352593397493213, 0.023525933975612437, 0.02352593397544557]\n"
     ]
    },
    {
     "data": {
      "image/png": "[encoded data removed]",
      "text/plain": [
       "<Figure size 640x480 with 1 Axes>"
      ]
     },
     "metadata": {},
     "output_type": "display_data"
    },
    {
     "name": "stdout",
     "output_type": "stream",
     "text": [
      "[1947600.2022757109, 1947600.2022757109, 1947600.2022757109, 1947600.2255936216, 1947600.2079934122, 1947600.2241935674, 1947600.2077227521, 1157327.9917318742, 1157327.9869659133, 1157328.0137293455, 1157327.9869729355, 1157327.9697273807, 1958.211505955768, 1958.2118437098216, 1958.2111833610297, 1958.2111611915523, 1958.2111903712162, 0.033886662656142846, 0.033698078819865356, 0.03408925967204009, 0.034082252807762475, 0.03408225331613703, 9.937469273694153e-05, 0.00011112994684961369, 9.377289243036157e-05, 0.00010793866755965153, 0.00010793866477075795, 6.513593586601158e-11, 2.2261806249514077e-05, 1.0401655499782762e-05, 1.3815500085706073e-05, 1.3815500175557944e-05, 4.0990372275064023e-13, 2.2261867419774656e-05, 1.0401613502073148e-05, 1.381556569896602e-05, 1.381556569896602e-05, 2.898457019905882e-13, 2.2261866524142644e-05, 1.0401613827908633e-05, 1.3815564704177434e-05, 1.3815564704177434e-05, 2.5421149729252077e-13, 2.2261866798497446e-05, 1.0401613609114085e-05, 1.3815565283935943e-05, 1.3815565373787814e-05, 1.797546735911271e-13, 2.2261867044081005e-05, 1.0401613898980537e-05, 1.3815565277517953e-05, 1.3815565277517953e-05, 1.7053025658242404e-13, 1.7053025658242404e-13, 0.13270242492565354, 0.13270242492608011, 0.05636781991761881, 0.05636781991737063, 0.005614295903014339, 0.005614295903322402, 0.005614295903125584, 0.005614295903228272]\n"
     ]
    },
    {
     "data": {
      "image/png": "[encoded data removed]",
      "text/plain": [
       "<Figure size 640x480 with 1 Axes>"
      ]
     },
     "metadata": {},
     "output_type": "display_data"
    },
    {
     "name": "stdout",
     "output_type": "stream",
     "text": [
      "Q0: 0.14316127361607478\n",
      "p0: 50.01431612736161\n"
     ]
    },
    {
     "data": {
      "image/png": "[encoded data removed]",
      "text/plain": [
       "<Figure size 640x480 with 1 Axes>"
      ]
     },
     "metadata": {},
     "output_type": "display_data"
    },
    {
     "name": "stdout",
     "output_type": "stream",
     "text": [
      "k function: 1021.1431612736161\n"
     ]
    }
   ],
   "source": [
    "Q0_prev = drain[0].Q_0\n",
    "eps = 0.001\n",
    "\n",
    "iterations = []\n",
    "Q0_values = []\n",
    "\n",
    "# set the maximum number of iterations\n",
    "max_iterations = 10\n",
    "\n",
    "# Итерационный поиск\n",
    "i = 0\n",
    "while i < max_iterations:\n",
    "    # Q0, p0, Q_well = find_Q_drain(drain, p0, pipes_from_wells_to_drain, flow_rate, k_list)\n",
    "    Q_values, k_values, Q0, p0, residual_history = find_Q_drain_2(drain, p0, pipes_from_wells_to_drain, flow_rate, k_list)\n",
    "\n",
    "    print(residual_history)\n",
    "    plt.plot(residual_history)\n",
    "    plt.xlabel('Iteration')\n",
    "    plt.ylabel('Residual norm')\n",
    "    plt.title('Convergence of the numerical solution')\n",
    "    plt.grid(True)\n",
    "    plt.show()\n",
    "\n",
    "    iterations.append(i)\n",
    "    Q0_values.append(Q0)\n",
    "    if abs(Q0 - Q0_prev) < eps:\n",
    "        break\n",
    "\n",
    "    Q0_prev = Q0\n",
    "\n",
    "    i += 1\n",
    "\n",
    "print(\"Q0:\", Q0)\n",
    "print(\"p0:\", p0)\n",
    "\n",
    "plt.plot(iterations, Q0_values)\n",
    "# plt.semilogy() \n",
    "plt.xlabel('Number of iterations')\n",
    "plt.ylabel('Q0 value')\n",
    "plt.title('Convergence of Q0 values')\n",
    "plt.show()\n",
    "\n",
    "# Plot the residual history\n",
    "# plt.plot(residual_history)\n",
    "# plt.xlabel(\"Iteration\")\n",
    "# plt.ylabel(\"Sum of squared residuals\")\n",
    "# plt.title(\"Convergence of the numerical method\")\n",
    "# plt.show()\n",
    "\n",
    "# Нахождение целевой функции\n",
    "def find_k(edges):\n",
    "    k = Q0 - sum(edge.length * edge.diameter/edge.roughness for edge in edges)\n",
    "    return k\n",
    "\n",
    "k = find_k(edges)\n",
    "print(\"k function:\", k)"
   ]
  }
 ],
 "metadata": {
  "kernelspec": {
   "display_name": "Python 3",
   "language": "python",
   "name": "python3"
  },
  "language_info": {
   "codemirror_mode": {
    "name": "ipython",
    "version": 3
   },
   "file_extension": ".py",
   "mimetype": "text/x-python",
   "name": "python",
   "nbconvert_exporter": "python",
   "pygments_lexer": "ipython3",
   "version": "3.10.9"
  },
  "orig_nbformat": 4,
  "vscode": {
   "interpreter": {
    "hash": "ae2266b94642437b16f6fcd175fd0f2392e1971ae8a1465ac2924d8a8199ccf9"
   }
  }
 },
 "nbformat": 4,
 "nbformat_minor": 2
}
