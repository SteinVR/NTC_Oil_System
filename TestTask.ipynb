{
 "cells": [
  {
   "attachments": {},
   "cell_type": "markdown",
   "metadata": {},
   "source": [
    "# Тестовое задание"
   ]
  },
  {
   "attachments": {},
   "cell_type": "markdown",
   "metadata": {},
   "source": [
    "Требуется разработать алгоритм максимизации функции k на ориентированном мультиграфе (ССиТ).\n",
    "\n",
    "Построение алгоритма будет выполняться в 2 этапа:\n",
    "1. Написание движка для нахождения функции k на заданном ориентированном мультиграфе (ССиТ)\n",
    "2. Оптимизация функции k"
   ]
  },
  {
   "attachments": {},
   "cell_type": "markdown",
   "metadata": {},
   "source": [
    "### Этап 1: Написание движка для нахождения функции k на заданном ориентированном мультиграфе"
   ]
  },
  {
   "cell_type": "code",
   "execution_count": null,
   "metadata": {},
   "outputs": [],
   "source": [
    "from sympy import symbols, Eq, solve\n",
    "\n",
    "#Создание класса для вершин и ребер графа\n",
    "# class Well:\n",
    "#     def __init__(self, flow_rate, pressure, alpha, const):\n",
    "#         self.flow_rate = \n",
    "#         self.pressure = \n",
    "#         self.alpha = alpha\n",
    "#         self.const = const\n",
    "class Well:\n",
    "    def __init__(self, idx, alpha, const, Q_well):\n",
    "        self.idx = idx\n",
    "        # self.p = p\n",
    "        self.Q_well = Q_well\n",
    "        self.alpha = alpha\n",
    "        self.const = const\n",
    "    def flow_rate(self):\n",
    "        return self.alpha * (  ) * self.const\n",
    "          \n",
    "class Vertex:\n",
    "    def __init__(self, idx):\n",
    "        self.idx = idx\n",
    "        # self.edge_input = edge_input # Список труб, что входит в узел\n",
    "        self.Q = 0\n",
    "        # self.Q = ((self.Q + edge_input[i].Q_edge) for i in range(len(edge_input))) # Список весов в узле\n",
    "        # self.output_flow = output_flow\n",
    "    def Q_Vertex(self, edge_input):\n",
    "        self.Q = ((self.Q + edge_input[i].Q_edge) for i in range(len(edge_input)))\n",
    "        return self.Q\n",
    "\n",
    "class Edge:\n",
    "    def __init__(self, idx, vertex1, vertex2, length, diameter, roughness, density):\n",
    "        self.idx = idx\n",
    "        self.vertex1 = vertex1\n",
    "        self.vertex2 = vertex2\n",
    "        self.length = length\n",
    "        self.diameter = diameter\n",
    "        self.roughness = roughness\n",
    "        self.Q_edge = self.vertex1\n",
    "        self.density = density\n",
    "        self.pressure_loss = self.density * self.length * self.Q_edge * self.roughness / self.diameter\n",
    "    # def pressure_loss(self, density):\n",
    "    #     return density * self.length * self.Q_edge * self.roughness / self.diameter\n",
    "\n",
    "class Drain:\n",
    "    def __init__(self, idx, p_0, alpha, const):\n",
    "        self.idx = idx\n",
    "        self.p_0 = p_0\n",
    "        self.alpha = alpha\n",
    "        self.const = const\n",
    "        self.Q_0 = self.alpha * self.p_0 + self.const"
   ]
  },
  {
   "cell_type": "code",
   "execution_count": null,
   "metadata": {},
   "outputs": [],
   "source": [
    "# Тело Алгоритма\n",
    "alpha = 3\n",
    "const = 5\n",
    "density = 1000\n",
    "\n",
    "def create_graph():\n",
    "    # get the number of Wells\n",
    "    num_wells = int(input(\"Enter the number of Wells: \"))\n",
    "    wells = []\n",
    "    # Создание списка из num_wells элементов - Q1, Q2, Q3\n",
    "    flow_rate = []\n",
    "    for i in range(num_wells):\n",
    "        flow_rate.append('Q' + str(i))\n",
    "    flow_rate = symbols(flow_rate)\n",
    "    \n",
    "    for i in range(num_wells):\n",
    "        wells.append(Well(i+1, alpha, const, flow_rate[i]))\n",
    "\n",
    "    # get the number of Vertex\n",
    "    num_vertex = int(input(\"Enter the number of Vertex: \"))\n",
    "    vertex = []\n",
    "    for i in range(num_wells):\n",
    "        vertex.append(Vertex(i+1, ))\n",
    "\n",
    "    num_vertex = symbols(flow_rate)\n",
    "    # get the number of Edges\n",
    "    num_edges = int(input(\"Enter the number of Edges: \"))\n",
    "    edges = []\n",
    "    for i in range(num_edges):\n",
    "    #     vertex1 = int(input(\"Enter the first vertex for edge {}: \".format(i + 1))) - 1\n",
    "    #     vertex2 = int(input(\"Enter the second vertex for edge {}: \".format(i + 1))) - 1\n",
    "        length = float(input(\"Enter the length for edge {}: \".format(i + 1)))\n",
    "        diameter = float(input(\"Enter the diameter for edge {}: \".format(i + 1)))\n",
    "        roughness = float(input(\"Enter the roughness for edge {}: \".format(i + 1)))\n",
    "        edges.append(Edge(wells[vertex1], wells[vertex2], length, diameter, roughness))\n",
    "\n",
    "    # return wells, edges"
   ]
  },
  {
   "cell_type": "code",
   "execution_count": 25,
   "metadata": {},
   "outputs": [
    {
     "name": "stdout",
     "output_type": "stream",
     "text": [
      "Enter the number of wells:\n",
      "Enter flow rate and pressure for well 1 separated by a space:\n",
      "Enter flow rate and pressure for well 2 separated by a space:\n",
      "Enter flow rate and pressure for well 3 separated by a space:\n",
      "Enter flow rate and pressure for well 4 separated by a space:\n",
      "Enter the number of nodes:\n",
      "Enter the number of edges:\n",
      "Enter vertex 1 and vertex 2 for edge 1 separated by a space:\n",
      "Enter vertex 1 and vertex 2 for edge 2 separated by a space:\n",
      "Enter vertex 1 and vertex 2 for edge 3 separated by a space:\n"
     ]
    },
    {
     "ename": "ValueError",
     "evalue": "not enough values to unpack (expected 2, got 0)",
     "output_type": "error",
     "traceback": [
      "\u001b[1;31m---------------------------------------------------------------------------\u001b[0m",
      "\u001b[1;31mValueError\u001b[0m                                Traceback (most recent call last)",
      "Cell \u001b[1;32mIn[25], line 78\u001b[0m\n\u001b[0;32m     76\u001b[0m \u001b[39mfor\u001b[39;00m i \u001b[39min\u001b[39;00m \u001b[39mrange\u001b[39m(num_edges):\n\u001b[0;32m     77\u001b[0m     \u001b[39mprint\u001b[39m(\u001b[39m\"\u001b[39m\u001b[39mEnter vertex 1 and vertex 2 for edge\u001b[39m\u001b[39m\"\u001b[39m, i\u001b[39m+\u001b[39m\u001b[39m1\u001b[39m, \u001b[39m\"\u001b[39m\u001b[39mseparated by a space:\u001b[39m\u001b[39m\"\u001b[39m)\n\u001b[1;32m---> 78\u001b[0m     vertex1, vertex2 \u001b[39m=\u001b[39m \u001b[39mmap\u001b[39m(\u001b[39mint\u001b[39m, \u001b[39minput\u001b[39m()\u001b[39m.\u001b[39mstrip()\u001b[39m.\u001b[39msplit())\n\u001b[0;32m     79\u001b[0m     \u001b[39mif\u001b[39;00m vertex1 \u001b[39mnot\u001b[39;00m \u001b[39min\u001b[39;00m graph:\n\u001b[0;32m     80\u001b[0m         graph[vertex1] \u001b[39m=\u001b[39m []\n",
      "\u001b[1;31mValueError\u001b[0m: not enough values to unpack (expected 2, got 0)"
     ]
    }
   ],
   "source": [
    "class Node:\n",
    "    def __init__(self, idx):\n",
    "        self.idx = idx\n",
    "        self.adjacent_nodes = []\n",
    "        self.adjacent_edges = []\n",
    "    \n",
    "    def add_edge(self, node, edge):\n",
    "        self.adjacent_nodes.append(node)\n",
    "        self.adjacent_edges.append(edge)\n",
    "        \n",
    "class Edge:\n",
    "    def __init__(self, idx, node1, node2, x, D, mu):\n",
    "        self.idx = idx\n",
    "        self.start_node = node1\n",
    "        self.end_node = node2\n",
    "        self.x = x\n",
    "        self.D = D\n",
    "        self.mu = mu\n",
    "    \n",
    "class Well(Node):\n",
    "    def __init__(self, idx, Q, p):\n",
    "        Node.__init__(self, idx)\n",
    "        self.Q = Q\n",
    "        self.p = p\n",
    "        \n",
    "class Graph:\n",
    "    def __init__(self, num_nodes, num_edges, num_wells):\n",
    "        self.nodes = []\n",
    "        self.edges = []\n",
    "        self.num_nodes = num_nodes\n",
    "        self.num_edges = num_edges\n",
    "        self.num_wells = num_wells\n",
    "        self.wells = []\n",
    "        \n",
    "    def add_node(self, node):\n",
    "        self.nodes.append(node)\n",
    "        \n",
    "    def add_edge(self, edge):\n",
    "        self.edges.append(edge)\n",
    "        \n",
    "    def add_well(self, well):\n",
    "        self.wells.append(well)\n",
    "        \n",
    "    def create_graph(self):\n",
    "        graph = {}\n",
    "        for node in self.nodes:\n",
    "            graph[node.idx] = []\n",
    "            for i in range(len(node.adjacent_nodes)):\n",
    "                graph[node.idx].append((node.adjacent_nodes[i].idx, node.adjacent_edges[i].idx))\n",
    "        return graph\n",
    "        \n",
    "# # Reading input\n",
    "# num_wells = int(input(\"Enter the number of wells: \"))\n",
    "# num_nodes = num_wells + int(input(\"Enter the number of additional nodes: \"))\n",
    "# num_edges = int(input(\"Enter the number of edges: \"))\n",
    "\n",
    "# graph = Graph(num_nodes, num_edges, num_wells)\n",
    "\n",
    "# Adding wells\n",
    "# print(\"Enter the number of wells:\")\n",
    "# num_wells = int(input().strip())\n",
    "# wells = []\n",
    "# for i in range(num_wells):\n",
    "#     print(\"Enter flow rate and pressure for well\", i+1, \"separated by a space:\")\n",
    "#     flow_rate, pressure = map(int, input().strip().split())\n",
    "#     wells.append((flow_rate, pressure))\n",
    "\n",
    "# # Adding nodes\n",
    "# print(\"Enter the number of nodes:\")\n",
    "# num_nodes = int(input().strip())\n",
    "\n",
    "# # Adding edges\n",
    "# print(\"Enter the number of edges:\")\n",
    "# num_edges = int(input().strip())\n",
    "# graph = {}\n",
    "# for i in range(num_edges):\n",
    "#     print(\"Enter vertex 1 and vertex 2 for edge\", i+1, \"separated by a space:\")\n",
    "#     vertex1, vertex2 = map(int, input().strip().split())\n",
    "#     if vertex1 not in graph:\n",
    "#         graph[vertex1] = []\n",
    "#     graph[vertex1].append(vertex2)\n",
    "\n",
    "# print(\"Graph:\", graph)"
   ]
  },
  {
   "attachments": {},
   "cell_type": "markdown",
   "metadata": {},
   "source": [
    "## Тестовая часть, понадлежит удалению перед отправкой"
   ]
  },
  {
   "cell_type": "code",
   "execution_count": 7,
   "metadata": {},
   "outputs": [
    {
     "name": "stdout",
     "output_type": "stream",
     "text": [
      "5\n"
     ]
    }
   ],
   "source": [
    "from sympy import symbols, Eq, solve\n",
    "\n",
    "x, y = symbols('x y')\n",
    "\n",
    "class MyExpression:\n",
    "    def __init__(self):\n",
    "        self.expr = x + y\n",
    "        \n",
    "    def evaluate(self, x_value, y_value):\n",
    "        return self.expr.subs([(x, x_value), (y, y_value)])\n",
    "\n",
    "def evaluate_expression(expr, x_value, y_value):\n",
    "    return expr.subs([(x, x_value), (y, y_value)])\n",
    "\n",
    "expr = MyExpression()\n",
    "# print(evaluate_expression(expr, 2, 3)) # Output: 5\n",
    "print(expr.evaluate(2, 3)) # Output: 5"
   ]
  },
  {
   "cell_type": "code",
   "execution_count": 1,
   "metadata": {},
   "outputs": [
    {
     "name": "stdout",
     "output_type": "stream",
     "text": [
      "[x, y, z]\n",
      "<class 'sympy.core.symbol.Symbol'>\n",
      "x y z\n",
      "<class 'sympy.core.symbol.Symbol'>\n"
     ]
    }
   ],
   "source": [
    "from sympy import symbols, Eq, solve\n",
    "\n",
    "\n",
    "variables = ['x', 'y', 'z']\n",
    "variables = symbols(variables)\n",
    "print(variables)\n",
    "print(type(variables[0]))\n",
    "\n",
    "variables = ['x', 'y', 'z']\n",
    "x, y, z = symbols(','.join(variables))\n",
    "print(x, y, z)\n",
    "print(type(x))\n"
   ]
  },
  {
   "cell_type": "code",
   "execution_count": null,
   "metadata": {},
   "outputs": [],
   "source": [
    "input().strip().split()\n",
    "print(a)"
   ]
  },
  {
   "cell_type": "code",
   "execution_count": 5,
   "metadata": {},
   "outputs": [
    {
     "name": "stdout",
     "output_type": "stream",
     "text": [
      "['Q0', 'Q1', 'Q2']\n"
     ]
    }
   ],
   "source": [
    "b = []\n",
    "for i in range(3):\n",
    "        b.append('Q' + str(i))\n",
    "\n",
    "print(b)"
   ]
  }
 ],
 "metadata": {
  "kernelspec": {
   "display_name": "Python 3",
   "language": "python",
   "name": "python3"
  },
  "language_info": {
   "codemirror_mode": {
    "name": "ipython",
    "version": 3
   },
   "file_extension": ".py",
   "mimetype": "text/x-python",
   "name": "python",
   "nbconvert_exporter": "python",
   "pygments_lexer": "ipython3",
   "version": "3.9.13"
  },
  "orig_nbformat": 4,
  "vscode": {
   "interpreter": {
    "hash": "ae2266b94642437b16f6fcd175fd0f2392e1971ae8a1465ac2924d8a8199ccf9"
   }
  }
 },
 "nbformat": 4,
 "nbformat_minor": 2
}
