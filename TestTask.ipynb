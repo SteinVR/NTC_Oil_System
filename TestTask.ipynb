{
 "cells": [
  {
   "attachments": {},
   "cell_type": "markdown",
   "metadata": {},
   "source": [
    "# Тестовое задание"
   ]
  },
  {
   "attachments": {},
   "cell_type": "markdown",
   "metadata": {},
   "source": [
    "Требуется разработать алгоритм максимизации функции k на ориентированном мультиграфе (ССиТ).\n",
    "\n",
    "Построение алгоритма будет выполняться в 2 этапа:\n",
    "1. Написание движка для нахождения функции k на заданном ориентированном мультиграфе (ССиТ)\n",
    "2. Оптимизация функции k"
   ]
  },
  {
   "attachments": {},
   "cell_type": "markdown",
   "metadata": {},
   "source": [
    "### Этап 1: Написание движка для нахождения функции k на заданном ориентированном мультиграфе"
   ]
  },
  {
   "attachments": {},
   "cell_type": "markdown",
   "metadata": {},
   "source": [
    "Код определяет классы для графа, состоящего из вершин и ребер, со специальными узлами для скважин и стока. Затем он создает граф, находит все ребра, которые соединяют скважины со стоком, и вычисляет дебиты через ребра в трубопроводе для скважин\n",
    "\n",
    "Классы для графа включают класс Vertex, класс Edge и специальные классы Well и Drain, которые наследуются от класса Vertex. Класс Vertex имеет атрибут idx для хранения индекса вершины, атрибут edge_input для хранения списка входящих ребер и атрибут Q для хранения дебита вершины. Класс Edge имеет атрибут idx для хранения индекса ребра, а также атрибуты vertex1 и vertex2 для хранения вершин на обоих концах ребра. Классы Well и Drain имеют дополнительные атрибуты для хранения параметров дебита, специфичных для этих узлов\n",
    "\n",
    "Функция create_graph() создает график, запрашивая у пользователя количество скважин (начальных вершин графа), промежуточных узлов (Vertex) и общее количество ребер, создавая экземпляры соответствующих классов для представления этих узлов и ребер. Ввод производится последовательно, в соответствии с направлением графа. Затем функция обновляет дебиты через вершины и ребра до тех пор, пока все ребра и узлы не обретут его значения.\n",
    "\n",
    "\n",
    "Функция find_pipes() принимает узел скважины и список всех ребер на граф, и возвращает список всех ребер, которые соединяют скважину со стоком. Эта функция используется для нахождения суммы всех потерь на трубах от скважины до стока\n",
    "\n",
    "Функция find_Q_well(p0) принимает значение давления на стоке и возвращает систему уравнений, которые будут использованы для решения и нахождения значения дебитов каждой скважины на графе"
   ]
  },
  {
   "cell_type": "code",
   "execution_count": 4,
   "metadata": {},
   "outputs": [],
   "source": [
    "from sympy import symbols, Eq, solve\n",
    "\n",
    "# Создание классов вершин и ребр графа. Скважины и сток будут особыми узлами с отдельными классами\n",
    "class Well:\n",
    "    def __init__(self, idx, alpha, const, Q):\n",
    "        self.idx = idx\n",
    "        self.alpha = alpha\n",
    "        self.const = const\n",
    "        self.Q = Q\n",
    "          \n",
    "class Vertex:\n",
    "    def __init__(self, idx):\n",
    "        self.idx = idx\n",
    "        self.edge_input = []\n",
    "        self.Q = 0\n",
    "\n",
    "    def update_Q(self):\n",
    "        self.Q = sum(edge.Q_edge for edge in self.edge_input)\n",
    "\n",
    "class Edge:\n",
    "    def __init__(self, idx, vertex1, vertex2, length = 5, diameter = 2, roughness = 0.1, density = 1000):\n",
    "        self.idx = idx\n",
    "        self.vertex1 = vertex1\n",
    "        self.vertex2 = vertex2\n",
    "        self.length = length\n",
    "        self.diameter = diameter\n",
    "        self.roughness = roughness\n",
    "        self.density = density\n",
    "        self.update_Q_edge()\n",
    "\n",
    "    def update_Q_edge(self):\n",
    "        self.Q_edge = self.vertex1.Q\n",
    "        self.pressure_loss = self.density * self.length * self.Q_edge * self.roughness / self.diameter\n",
    "\n",
    "class Drain:\n",
    "    def __init__(self, p_0, alpha = 3, const = 10, idx=0):\n",
    "        self.p_0 = p_0\n",
    "        self.edge_input = []\n",
    "        self.alpha = alpha\n",
    "        self.const = const\n",
    "        self.idx = idx\n",
    "        self.Q_0 = self.alpha * self.p_0 + self.const"
   ]
  },
  {
   "cell_type": "code",
   "execution_count": 5,
   "metadata": {},
   "outputs": [],
   "source": [
    "# Создание графа\n",
    "def create_graph():\n",
    "    alpha = 3\n",
    "    const = 5\n",
    "    # Количество скважин\n",
    "    num_wells = int(input(\"Enter the number of Wells: \"))\n",
    "    wells = []\n",
    "    \n",
    "    # Создание списка из num_wells элементов - Q1, Q2, Q3\n",
    "    flow_rate = []\n",
    "    flow_rate = symbols(['Q{}'.format(i+1) for i in range(num_wells)])\n",
    "    \n",
    "    counter = 0\n",
    "    for i in range(num_wells):\n",
    "        counter = counter + 1\n",
    "        wells.append(Well(i+1, alpha, const, flow_rate[i]))\n",
    "\n",
    "    # Количество вершин\n",
    "    num_vertex = int(input(\"Enter the number of Vertex: \"))\n",
    "    vertex = []\n",
    "    for i in range(num_vertex):\n",
    "        vertex.append(Vertex(i + counter))\n",
    "\n",
    "    # Сток\n",
    "    drain = [Drain(100)]\n",
    "    common_vertex = drain + wells + vertex # A common array of all vertices\n",
    "    print(common_vertex)\n",
    "\n",
    "    # Количество ребр (труб)\n",
    "    num_edges = int(input(\"Enter the number of Edges: \"))\n",
    "    edges = []\n",
    "    for i in range(num_edges):\n",
    "        vertex1 = int(input(\"Enter the first vertex for edge {}: \".format(i + 1)))\n",
    "        vertex2 = int(input(\"Enter the second vertex for edge {}: \".format(i + 1)))\n",
    "        # length = float(input(\"Enter the length for edge {}: \".format(i + 1)))\n",
    "        # diameter = float(input(\"Enter the diameter for edge {}: \".format(i + 1)))\n",
    "        # roughness = float(input(\"Enter the roughness for edge {}: \".format(i + 1)))\n",
    "        # edges.append(Edge(i+1, common_vertex[vertex1], common_vertex[vertex2], length, diameter, roughness))\n",
    "        edges.append(Edge(i+1, common_vertex[vertex1], common_vertex[vertex2]))\n",
    "\n",
    "    for edge in edges:\n",
    "        edge.vertex2.edge_input.append(edge)\n",
    "        \n",
    "    # Обновление характеристик дебитов на узлах и гранях, после создания всех элементов графа и их связей\n",
    "    while edges[num_edges-1].Q_edge == 0:\n",
    "        for edge in edges:\n",
    "            edge.update_Q_edge()\n",
    "\n",
    "        for vert in vertex:\n",
    "            vert.update_Q()\n",
    "\n",
    "    return wells, vertex, drain, edges, flow_rate"
   ]
  },
  {
   "cell_type": "code",
   "execution_count": 6,
   "metadata": {},
   "outputs": [
    {
     "name": "stdout",
     "output_type": "stream",
     "text": [
      "[<__main__.Drain object at 0x000001B322FB3AC0>, <__main__.Well object at 0x000001B322F9A520>, <__main__.Well object at 0x000001B322FB3760>, <__main__.Vertex object at 0x000001B322FB36D0>, <__main__.Vertex object at 0x000001B322FB37F0>, <__main__.Vertex object at 0x000001B322FB3730>]\n"
     ]
    }
   ],
   "source": [
    "wells, vertex, drain, edges, flow_rate = create_graph()"
   ]
  },
  {
   "cell_type": "code",
   "execution_count": 7,
   "metadata": {},
   "outputs": [],
   "source": [
    "# Нахождение всех граней графа, ведущих от скважины до стока\n",
    "def find_pipes(well, edges, drain):\n",
    "    pipes = []\n",
    "    visited = set()\n",
    "    queue = []\n",
    "    queue.append(well)\n",
    "    while queue:\n",
    "        curr = queue.pop(0)\n",
    "        visited.add(curr)\n",
    "        for edge in edges:\n",
    "            if edge.vertex1 == curr and edge.vertex2 not in visited:\n",
    "                queue.append(edge.vertex2)\n",
    "                pipes.append(edge)\n",
    "                if edge.vertex2 == drain:\n",
    "                    return pipes\n",
    "    return pipes"
   ]
  },
  {
   "cell_type": "code",
   "execution_count": 8,
   "metadata": {},
   "outputs": [],
   "source": [
    "pipes_from_wells_to_drain = []\n",
    "for well in wells:\n",
    "    pipes_from_wells_to_drain.append(find_pipes(well, edges, drain[0]))"
   ]
  },
  {
   "cell_type": "code",
   "execution_count": 9,
   "metadata": {},
   "outputs": [
    {
     "name": "stdout",
     "output_type": "stream",
     "text": [
      "Q1 + Q2\n"
     ]
    }
   ],
   "source": [
    "# Проверка дебита на последней заданной трубе\n",
    "print(pipes_from_wells_to_drain[1][-1].Q_edge)"
   ]
  },
  {
   "cell_type": "code",
   "execution_count": 10,
   "metadata": {},
   "outputs": [],
   "source": [
    "alpha = drain[0].alpha\n",
    "const = drain[0].const\n",
    "p0 = drain[0].p_0\n",
    "\n",
    "# Нахождение уравнений от-но дебитов каждой скважины\n",
    "def find_Q_well(p0):\n",
    "    p0 = p0\n",
    "    Q_well = []\n",
    "    for well in range(len(wells)):\n",
    "        Q_well.append(alpha * (p0 + sum(edge.pressure_loss for edge in pipes_from_wells_to_drain[well])) + const)\n",
    "    return Q_well"
   ]
  },
  {
   "cell_type": "code",
   "execution_count": 11,
   "metadata": {},
   "outputs": [
    {
     "name": "stdout",
     "output_type": "stream",
     "text": [
      "Q0: -9.19437649726549e-8\n",
      "p0: -3.33328737677481\n"
     ]
    }
   ],
   "source": [
    "p0 = drain[0].p_0\n",
    "Q0_prev = 0\n",
    "eps = 0.001\n",
    "\n",
    "# Итерационный поиск Q0\n",
    "while True:\n",
    "\n",
    "    Q_well = find_Q_well(p0)\n",
    "    flow_rate = symbols(['Q{}'.format(i+1) for i in range(len(Q_well))])\n",
    "\n",
    "    # Решение системы уравнений от-но Q скважин\n",
    "    eqs = [Eq(Q_well[i], flow_rate[i]) for i in range(len(Q_well))]\n",
    "    sol = solve(eqs, flow_rate)\n",
    "\n",
    "    # Нахождение нового Q0\n",
    "    Q0 = sum(sol.get(well) for well in flow_rate)\n",
    "\n",
    "    # Проверка сходимости\n",
    "    if abs(Q0 - Q0_prev) < eps:\n",
    "        break\n",
    "\n",
    "    Q0_prev = Q0\n",
    "\n",
    "    # Нахождение нового p0\n",
    "    p0 = (Q0-const)/alpha\n",
    "\n",
    "print(\"Q0:\", Q0)\n",
    "print(\"p0:\", p0)"
   ]
  },
  {
   "cell_type": "code",
   "execution_count": 13,
   "metadata": {},
   "outputs": [
    {
     "name": "stdout",
     "output_type": "stream",
     "text": [
      "k function: -500.000000091944\n"
     ]
    }
   ],
   "source": [
    "# Нахождение целевой функции\n",
    "def find_k():\n",
    "    k = Q0 - sum(edge.length*edge.diameter/edge.roughness for edge in edges)\n",
    "    return k\n",
    "\n",
    "k = find_k()\n",
    "print(\"k function:\", k)"
   ]
  },
  {
   "attachments": {},
   "cell_type": "markdown",
   "metadata": {},
   "source": [
    "### Этап 2\n",
    "1. дополните параметры труб (шероховатость, длину, диаметр)   +\n",
    "2. индивидуальные параметры альфа и константа для каждой трубы +\n",
    "3. график сходимости по итерациям\n",
    "4. подобрать константы что бы числа были физичные\n",
    "\n",
    "### Новое уравнение для лупингов:\n",
    "1. пропорционально пропускной способности\n",
    "2. функция потенциала проводимости, зависящая от потенциально возможного дебита"
   ]
  },
  {
   "cell_type": "code",
   "execution_count": 2,
   "metadata": {},
   "outputs": [
    {
     "name": "stdout",
     "output_type": "stream",
     "text": [
      "[<__main__.Drain object at 0x000002895F84E7F0>, <__main__.Well object at 0x000002895F84E730>, <__main__.Well object at 0x000002895F84EAF0>, <__main__.Vertex object at 0x000002895F84E130>, <__main__.Vertex object at 0x000002895F84E430>, <__main__.Vertex object at 0x000002895F84EE20>]\n"
     ]
    }
   ],
   "source": [
    "import matplotlib.pyplot as plt\n",
    "from sympy import symbols, Eq, solve\n",
    "\n",
    "\n",
    "# Создание классов вершин и ребр графа. Скважины и сток будут особыми узлами с отдельными классами\n",
    "class Well:\n",
    "    def __init__(self, idx, alpha, const, Q):\n",
    "        self.idx = idx\n",
    "        self.alpha = alpha\n",
    "        self.const = const\n",
    "        self.Q = Q\n",
    "          \n",
    "class Vertex:\n",
    "    def __init__(self, idx):\n",
    "        self.idx = idx\n",
    "        self.edge_input = []\n",
    "        self.Q = 0\n",
    "\n",
    "    def update_Q(self):\n",
    "        self.Q = sum(edge.Q_edge for edge in self.edge_input)\n",
    "\n",
    "class Edge:\n",
    "    def __init__(self, idx, vertex1, vertex2, length = 100, diameter = 1.5, roughness = 0.1, density = 1000):\n",
    "    # def __init__(self, idx, vertex1, vertex2, length, diameter, roughness, density = 1000):\n",
    "        self.idx = idx\n",
    "        self.vertex1 = vertex1\n",
    "        self.vertex2 = vertex2\n",
    "        self.length = length\n",
    "        self.diameter = diameter\n",
    "        self.roughness = roughness\n",
    "        self.density = density\n",
    "        self.update_Q_edge()\n",
    "\n",
    "    def update_Q_edge(self):\n",
    "        self.Q_edge = self.vertex1.Q\n",
    "        self.pressure_loss = self.density * self.length * self.Q_edge * self.roughness / self.diameter\n",
    "\n",
    "class Drain:\n",
    "    def __init__(self, p_0, alpha, const, idx=0):\n",
    "        self.p_0 = p_0\n",
    "        self.edge_input = []\n",
    "        self.alpha = alpha\n",
    "        self.const = const\n",
    "        self.idx = idx\n",
    "        self.Q_0 = self.alpha * self.p_0 + self.const\n",
    "        \n",
    "# Создание графа\n",
    "def create_graph():\n",
    "    # alpha = 3\n",
    "    # const = 5\n",
    "    # Количество скважин\n",
    "    num_wells = int(input(\"Enter the number of Wells: \"))\n",
    "    wells = []\n",
    "    \n",
    "    # Создание списка из num_wells элементов - Q1, Q2, Q3\n",
    "    flow_rate = []\n",
    "    flow_rate = symbols(['Q{}'.format(i+1) for i in range(num_wells)])\n",
    "    \n",
    "    counter = 0\n",
    "    for i in range(num_wells):\n",
    "        counter = counter + 1\n",
    "        alpha = int(input(\"Enter alpha for well {}: \".format(i + 1)))\n",
    "        const = int(input(\"Enter const for well {}: \".format(i + 1)))\n",
    "        wells.append(Well(i+1, alpha, const, flow_rate[i]))\n",
    "\n",
    "    # Количество вершин\n",
    "    num_vertex = int(input(\"Enter the number of Vertex: \"))\n",
    "    vertex = []\n",
    "    for i in range(num_vertex):\n",
    "        vertex.append(Vertex(i + counter))\n",
    "\n",
    "    # Сток\n",
    "    alpha = int(input(\"Enter alpha for Drain {}: \".format(i + 1)))\n",
    "    const = int(input(\"Enter const for Drain {}: \".format(i + 1)))\n",
    "    p_0 = 100\n",
    "    drain = [Drain(p_0, alpha, const)]\n",
    "    common_vertex = drain + wells + vertex # A common array of all vertices\n",
    "    print(common_vertex)\n",
    "\n",
    "    # Количество ребр (труб)\n",
    "    num_edges = int(input(\"Enter the number of Edges: \"))\n",
    "    edges = []\n",
    "    for i in range(num_edges):\n",
    "        vertex1 = int(input(\"Enter the first vertex for edge {}: \".format(i + 1)))\n",
    "        vertex2 = int(input(\"Enter the second vertex for edge {}: \".format(i + 1)))\n",
    "        # length = float(input(\"Enter the length for edge {}: \".format(i + 1)))\n",
    "        # diameter = float(input(\"Enter the diameter for edge {}: \".format(i + 1)))\n",
    "        # roughness = float(input(\"Enter the roughness for edge {}: \".format(i + 1)))\n",
    "        # edges.append(Edge(i+1, common_vertex[vertex1], common_vertex[vertex2], length, diameter, roughness))\n",
    "        edges.append(Edge(i+1, common_vertex[vertex1], common_vertex[vertex2]))\n",
    "\n",
    "    for edge in edges:\n",
    "        edge.vertex2.edge_input.append(edge)\n",
    "        \n",
    "    # Обновление характеристик дебитов на узлах и гранях, после создания всех элементов графа и их связей\n",
    "    while edges[num_edges-1].Q_edge == 0:\n",
    "        for edge in edges:\n",
    "            edge.update_Q_edge()\n",
    "\n",
    "        for vert in vertex:\n",
    "            vert.update_Q()\n",
    "    return wells, vertex, drain, edges, flow_rate\n",
    "\n",
    "wells, vertex, drain, edges, flow_rate = create_graph()\n",
    "\n",
    "# Нахождение всех граней графа, ведущих от скважины до стока\n",
    "def find_pipes(well, edges, drain):\n",
    "    pipes = []\n",
    "    visited = set()\n",
    "    queue = []\n",
    "    queue.append(well)\n",
    "    while queue:\n",
    "        curr = queue.pop(0)\n",
    "        visited.add(curr)\n",
    "        for edge in edges:\n",
    "            if edge.vertex1 == curr and edge.vertex2 not in visited:\n",
    "                queue.append(edge.vertex2)\n",
    "                pipes.append(edge)\n",
    "                if edge.vertex2 == drain:\n",
    "                    return pipes\n",
    "    return pipes\n",
    "\n",
    "pipes_from_wells_to_drain = []\n",
    "for well in wells:\n",
    "    pipes_from_wells_to_drain.append(find_pipes(well, edges, drain[0]))"
   ]
  },
  {
   "cell_type": "code",
   "execution_count": 3,
   "metadata": {},
   "outputs": [
    {
     "name": "stdout",
     "output_type": "stream",
     "text": [
      "Q1 + Q2\n"
     ]
    }
   ],
   "source": [
    "# Проверка дебита на последней заданной трубе\n",
    "print(pipes_from_wells_to_drain[1][-1].Q_edge)"
   ]
  },
  {
   "cell_type": "code",
   "execution_count": 12,
   "metadata": {},
   "outputs": [],
   "source": [
    "# Параметры alpha и const задаются непосредственно на скважинах, а не трубах !\n",
    "p0 = drain[0].p_0\n",
    "\n",
    "# Нахождение уравнений от-но дебитов каждой скважины\n",
    "def find_Q_well(p0):\n",
    "    p0 = p0\n",
    "    Q_well = []\n",
    "    for well in range(len(wells)):\n",
    "        Q_well.append(wells[well].alpha * (p0 + sum(edge.pressure_loss for edge in pipes_from_wells_to_drain[well])) + wells[well].const)\n",
    "    return Q_well\n"
   ]
  },
  {
   "cell_type": "code",
   "execution_count": 13,
   "metadata": {},
   "outputs": [],
   "source": [
    "def find_Q_drain(p0):\n",
    "\n",
    "    p0 = p0\n",
    "    Q_well = find_Q_well(p0)\n",
    "    flow_rate = symbols(['Q{}'.format(i+1) for i in range(len(Q_well))])\n",
    "\n",
    "    # Решение системы уравнений от-но Q скважин\n",
    "    eqs = [Eq(Q_well[i], flow_rate[i]) for i in range(len(Q_well))]\n",
    "    sol = solve(eqs, flow_rate)\n",
    "\n",
    "    # Нахождение нового Q0\n",
    "    Q0 = sum(sol.get(well) for well in flow_rate)\n",
    "\n",
    "    # Нахождение нового p0\n",
    "    p0 = (Q0-const)/alpha\n",
    "    return Q0, p0"
   ]
  },
  {
   "cell_type": "code",
   "execution_count": 15,
   "metadata": {},
   "outputs": [],
   "source": [
    "# Итерационный поиск Q0\n",
    "# while True:\n",
    "\n",
    "#     Q_well = find_Q_well(p0)\n",
    "#     flow_rate = symbols(['Q{}'.format(i+1) for i in range(len(Q_well))])\n",
    "\n",
    "#     # Решение системы уравнений от-но Q скважин\n",
    "#     eqs = [Eq(Q_well[i], flow_rate[i]) for i in range(len(Q_well))]\n",
    "#     sol = solve(eqs, flow_rate)\n",
    "\n",
    "#     # Нахождение нового Q0\n",
    "#     Q0 = sum(sol.get(well) for well in flow_rate)\n",
    "\n",
    "#     # Проверка сходимости\n",
    "#     if abs(Q0 - Q0_prev) < eps:\n",
    "#         break\n",
    "\n",
    "#     Q0_prev = Q0\n",
    "\n",
    "#     # Нахождение нового p0\n",
    "#     p0 = (Q0-const)/alpha"
   ]
  },
  {
   "cell_type": "code",
   "execution_count": 14,
   "metadata": {},
   "outputs": [
    {
     "name": "stdout",
     "output_type": "stream",
     "text": [
      "Q0: -0.00201284861383477\n",
      "p0: -1.57700049417746\n"
     ]
    },
    {
     "data": {
      "image/png": "[encoded data removed]",
      "text/plain": [
       "<Figure size 432x288 with 1 Axes>"
      ]
     },
     "metadata": {
      "needs_background": "light"
     },
     "output_type": "display_data"
    },
    {
     "name": "stdout",
     "output_type": "stream",
     "text": [
      "k function: -500.002012848614\n"
     ]
    }
   ],
   "source": [
    "alpha = drain[0].alpha\n",
    "const = drain[0].const\n",
    "Q0_prev = drain[0].Q_0\n",
    "eps = 0.001\n",
    "\n",
    "iterations = []\n",
    "Q0_values = []\n",
    "\n",
    "# set the maximum number of iterations\n",
    "max_iterations = 100\n",
    "\n",
    "i = 0\n",
    "while i < max_iterations:\n",
    "    Q0, p0 = find_Q_drain(p0)\n",
    "    iterations.append(i)\n",
    "    Q0_values.append(Q0)\n",
    "    if abs(Q0 - Q0_prev) < eps:\n",
    "        break\n",
    "\n",
    "    Q0_prev = Q0\n",
    "\n",
    "    # Нахождение нового p0\n",
    "    p0 = (Q0-const)/alpha\n",
    "    i += 1\n",
    "\n",
    "print(\"Q0:\", Q0)\n",
    "print(\"p0:\", p0)\n",
    "\n",
    "plt.plot(iterations, Q0_values)\n",
    "plt.xlabel('Number of iterations')\n",
    "plt.ylabel('Q0 value')\n",
    "plt.title('Convergence of Q0 values')\n",
    "plt.show()\n",
    "\n",
    "\n",
    "# Нахождение целевой функции\n",
    "def find_k():\n",
    "    k = Q0 - sum(edge.length * edge.diameter/edge.roughness for edge in edges)\n",
    "    return k\n",
    "\n",
    "k = find_k()\n",
    "print(\"k function:\", k)"
   ]
  }
 ],
 "metadata": {
  "kernelspec": {
   "display_name": "Python 3",
   "language": "python",
   "name": "python3"
  },
  "language_info": {
   "codemirror_mode": {
    "name": "ipython",
    "version": 3
   },
   "file_extension": ".py",
   "mimetype": "text/x-python",
   "name": "python",
   "nbconvert_exporter": "python",
   "pygments_lexer": "ipython3",
   "version": "3.9.13"
  },
  "orig_nbformat": 4,
  "vscode": {
   "interpreter": {
    "hash": "ae2266b94642437b16f6fcd175fd0f2392e1971ae8a1465ac2924d8a8199ccf9"
   }
  }
 },
 "nbformat": 4,
 "nbformat_minor": 2
}
