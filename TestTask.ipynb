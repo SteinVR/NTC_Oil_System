{
 "cells": [
  {
   "attachments": {},
   "cell_type": "markdown",
   "metadata": {},
   "source": [
    "# Тестовое задание"
   ]
  },
  {
   "attachments": {},
   "cell_type": "markdown",
   "metadata": {},
   "source": [
    "Требуется разработать алгоритм максимизации функции k на ориентированном мультиграфе (ССиТ).\n",
    "\n",
    "Построение алгоритма будет выполняться в 2 этапа:\n",
    "1. Написание движка для нахождения функции k на заданном ориентированном мультиграфе (ССиТ)\n",
    "2. Оптимизация функции k"
   ]
  },
  {
   "attachments": {},
   "cell_type": "markdown",
   "metadata": {},
   "source": [
    "### Этап 1: Написание движка для нахождения функции k на заданном ориентированном мультиграфе"
   ]
  },
  {
   "cell_type": "code",
   "execution_count": 42,
   "metadata": {},
   "outputs": [],
   "source": [
    "\n",
    "from sympy import symbols, Eq, solve\n",
    "\n",
    "class Well:\n",
    "    def __init__(self, idx, alpha, const, Q):\n",
    "        self.idx = idx\n",
    "        self.alpha = alpha\n",
    "        self.const = const\n",
    "        # self.edge_input = edge_input\n",
    "        self.Q = Q\n",
    "    # def flow_rate(self):\n",
    "    #     return self.alpha * (  ) * self.const\n",
    "          \n",
    "class Vertex:\n",
    "    def __init__(self, idx):\n",
    "        self.idx = idx\n",
    "        self.edge_input = []\n",
    "        # self.edge_input = edge_input # List of pipes that are included in the node\n",
    "        self.Q = 0\n",
    "\n",
    "    def update_Q(self):\n",
    "        self.Q = sum(edge.Q_edge for edge in self.edge_input)\n",
    "\n",
    "class Edge:\n",
    "    def __init__(self, idx, vertex1, vertex2, length = 5, diameter = 2, roughness = 0.1, density = 1000):\n",
    "        self.idx = idx\n",
    "        self.vertex1 = vertex1\n",
    "        self.vertex2 = vertex2\n",
    "        self.length = length\n",
    "        self.diameter = diameter\n",
    "        self.roughness = roughness\n",
    "        self.density = density\n",
    "        self.update_Q_edge()\n",
    "\n",
    "    def update_Q_edge(self):\n",
    "        self.Q_edge = self.vertex1.Q\n",
    "        self.pressure_loss = self.density * self.length * self.Q_edge * self.roughness / self.diameter\n",
    "\n",
    "class Drain:\n",
    "    def __init__(self, p_0, alpha = 2, const = 10, idx=0):\n",
    "        self.p_0 = p_0\n",
    "        self.edge_input = []\n",
    "        self.alpha = alpha\n",
    "        self.const = const\n",
    "        self.idx = idx\n",
    "        self.Q_0 = self.alpha * self.p_0 + self.const"
   ]
  },
  {
   "cell_type": "code",
   "execution_count": 47,
   "metadata": {},
   "outputs": [],
   "source": [
    "# Body of the algorithm\n",
    "alpha = 3\n",
    "const = 5\n",
    "density = 1000\n",
    "def create_graph():\n",
    "    # get the number of Wells\n",
    "    num_wells = int(input(\"Enter the number of Wells: \"))\n",
    "    wells = []\n",
    "    \n",
    "    # Создание списка из num_wells элементов - Q1, Q2, Q3\n",
    "    flow_rate = []\n",
    "    for i in range(num_wells):\n",
    "        flow_rate.append('Q' + str(i+1))\n",
    "    flow_rate = symbols(flow_rate)\n",
    "    \n",
    "    counter = 0\n",
    "    for i in range(num_wells):\n",
    "        counter = counter + 1\n",
    "        wells.append(Well(i+1, alpha, const, flow_rate[i]))\n",
    "\n",
    "    # get the number of Vertex\n",
    "    num_vertex = int(input(\"Enter the number of Vertex: \"))\n",
    "    vertex = []\n",
    "    for i in range(num_vertex):\n",
    "        vertex.append(Vertex(i + counter))\n",
    "\n",
    "    # Create Drain\n",
    "    drain = [Drain(100)]\n",
    "    common_vertex = drain + wells + vertex # A common array of all vertices\n",
    "    print(common_vertex)\n",
    "\n",
    "    # get the number of Edges\n",
    "    num_edges = int(input(\"Enter the number of Edges: \"))\n",
    "    edges = []\n",
    "    for i in range(num_edges):\n",
    "        vertex1 = int(input(\"Enter the first vertex for edge {}: \".format(i + 1)))\n",
    "        vertex2 = int(input(\"Enter the second vertex for edge {}: \".format(i + 1)))\n",
    "        # length = float(input(\"Enter the length for edge {}: \".format(i + 1)))\n",
    "        # diameter = float(input(\"Enter the diameter for edge {}: \".format(i + 1)))\n",
    "        # roughness = float(input(\"Enter the roughness for edge {}: \".format(i + 1)))\n",
    "        # edges.append(Edge(i+1, common_vertex[vertex1], common_vertex[vertex2], length, diameter, roughness))\n",
    "        edges.append(Edge(i+1, common_vertex[vertex1], common_vertex[vertex2]))\n",
    "\n",
    "    for edge in edges:\n",
    "        # edge.vertex1.edge_input.append(edge)\n",
    "        edge.vertex2.edge_input.append(edge)\n",
    "\n",
    "    while edges[num_edges-1].Q_edge == 0:\n",
    "        # for well in wells:\n",
    "        #     well.flow_rate()\n",
    "\n",
    "        for edge in edges:\n",
    "            edge.update_Q_edge()\n",
    "\n",
    "        for vert in vertex:\n",
    "            vert.update_Q()\n",
    "\n",
    "    return wells, edges"
   ]
  },
  {
   "cell_type": "code",
   "execution_count": 48,
   "metadata": {},
   "outputs": [
    {
     "name": "stdout",
     "output_type": "stream",
     "text": [
      "[<__main__.Drain object at 0x00000206E941C730>, <__main__.Well object at 0x00000206E9322B50>, <__main__.Well object at 0x00000206E941CC70>, <__main__.Well object at 0x00000206E941CE80>, <__main__.Well object at 0x00000206E941CEB0>, <__main__.Vertex object at 0x00000206E941C370>, <__main__.Vertex object at 0x00000206E941CCD0>, <__main__.Vertex object at 0x00000206E941C910>, <__main__.Vertex object at 0x00000206E941C0D0>]\n"
     ]
    }
   ],
   "source": [
    "wells, edges = create_graph()"
   ]
  },
  {
   "cell_type": "code",
   "execution_count": 49,
   "metadata": {},
   "outputs": [
    {
     "name": "stdout",
     "output_type": "stream",
     "text": [
      "Q1 + Q2\n",
      "Q1 + Q2 + Q3 + Q4\n",
      "250.0*Q1 + 250.0*Q2 + 250.0*Q3 + 250.0*Q4\n",
      "<class 'sympy.core.symbol.Symbol'>\n"
     ]
    }
   ],
   "source": [
    "# print(edges[0].Q_edge)\n",
    "# print(edges[1].Q_edge)\n",
    "# print(edges[2].Q_edge)\n",
    "# print(edges[3].Q_edge)\n",
    "# print(edges[4].Q_edge)\n",
    "# print(edges[7].Q_edge)\n",
    "# print(edges[7].pressure_loss)\n",
    "# print(type(edges[0].Q_edge))"
   ]
  },
  {
   "cell_type": "code",
   "execution_count": null,
   "metadata": {},
   "outputs": [],
   "source": [
    "def bfs(wells, edges, drain):\n",
    "queue = []\n",
    "visited = set()\n",
    "parent = {}\n",
    "paths = {}"
   ]
  },
  {
   "attachments": {},
   "cell_type": "markdown",
   "metadata": {},
   "source": [
    "## Тестовая часть, понадлежит удалению перед отправкой"
   ]
  },
  {
   "cell_type": "code",
   "execution_count": 7,
   "metadata": {},
   "outputs": [
    {
     "name": "stdout",
     "output_type": "stream",
     "text": [
      "5\n"
     ]
    }
   ],
   "source": [
    "from sympy import symbols, Eq, solve\n",
    "\n",
    "x, y = symbols('x y')\n",
    "\n",
    "class MyExpression:\n",
    "    def __init__(self):\n",
    "        self.expr = x + y\n",
    "        \n",
    "    def evaluate(self, x_value, y_value):\n",
    "        return self.expr.subs([(x, x_value), (y, y_value)])\n",
    "\n",
    "def evaluate_expression(expr, x_value, y_value):\n",
    "    return expr.subs([(x, x_value), (y, y_value)])\n",
    "\n",
    "expr = MyExpression()\n",
    "# print(evaluate_expression(expr, 2, 3)) # Output: 5\n",
    "print(expr.evaluate(2, 3)) # Output: 5"
   ]
  },
  {
   "cell_type": "code",
   "execution_count": 1,
   "metadata": {},
   "outputs": [
    {
     "name": "stdout",
     "output_type": "stream",
     "text": [
      "[x, y, z]\n",
      "<class 'sympy.core.symbol.Symbol'>\n",
      "x y z\n",
      "<class 'sympy.core.symbol.Symbol'>\n"
     ]
    }
   ],
   "source": [
    "from sympy import symbols, Eq, solve\n",
    "\n",
    "\n",
    "variables = ['x', 'y', 'z']\n",
    "variables = symbols(variables)\n",
    "print(variables)\n",
    "print(type(variables[0]))\n",
    "\n",
    "variables = ['x', 'y', 'z']\n",
    "x, y, z = symbols(','.join(variables))\n",
    "print(x, y, z)\n",
    "print(type(x))\n"
   ]
  },
  {
   "cell_type": "code",
   "execution_count": null,
   "metadata": {},
   "outputs": [],
   "source": [
    "input().strip().split()\n",
    "print(a)"
   ]
  },
  {
   "cell_type": "code",
   "execution_count": 5,
   "metadata": {},
   "outputs": [
    {
     "name": "stdout",
     "output_type": "stream",
     "text": [
      "['Q0', 'Q1', 'Q2']\n"
     ]
    }
   ],
   "source": [
    "b = []\n",
    "for i in range(3):\n",
    "        b.append('Q' + str(i))\n",
    "\n",
    "print(b)"
   ]
  },
  {
   "cell_type": "code",
   "execution_count": 2,
   "metadata": {},
   "outputs": [
    {
     "name": "stdout",
     "output_type": "stream",
     "text": [
      "1\n"
     ]
    }
   ],
   "source": [
    "i = 1\n",
    "vertex1 = int(input(\"Enter the first vertex for edge {}: \".format(i + 1)))\n",
    "print(vertex1)"
   ]
  },
  {
   "cell_type": "code",
   "execution_count": 21,
   "metadata": {},
   "outputs": [
    {
     "name": "stdout",
     "output_type": "stream",
     "text": [
      "0\n"
     ]
    }
   ],
   "source": [
    "drain = [Drain(100)]\n",
    "print(drain[0].idx)"
   ]
  },
  {
   "cell_type": "code",
   "execution_count": 26,
   "metadata": {},
   "outputs": [
    {
     "name": "stdout",
     "output_type": "stream",
     "text": [
      "[1]\n"
     ]
    }
   ],
   "source": [
    "a = []\n",
    "a.append(1)\n",
    "print(a)"
   ]
  }
 ],
 "metadata": {
  "kernelspec": {
   "display_name": "Python 3",
   "language": "python",
   "name": "python3"
  },
  "language_info": {
   "codemirror_mode": {
    "name": "ipython",
    "version": 3
   },
   "file_extension": ".py",
   "mimetype": "text/x-python",
   "name": "python",
   "nbconvert_exporter": "python",
   "pygments_lexer": "ipython3",
   "version": "3.9.13"
  },
  "orig_nbformat": 4,
  "vscode": {
   "interpreter": {
    "hash": "ae2266b94642437b16f6fcd175fd0f2392e1971ae8a1465ac2924d8a8199ccf9"
   }
  }
 },
 "nbformat": 4,
 "nbformat_minor": 2
}
