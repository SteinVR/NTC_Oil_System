{
 "cells": [
  {
   "attachments": {},
   "cell_type": "markdown",
   "metadata": {},
   "source": [
    "# Тестовое задание"
   ]
  },
  {
   "attachments": {},
   "cell_type": "markdown",
   "metadata": {},
   "source": [
    "Требуется разработать алгоритм максимизации функции k на ориентированном мультиграфе (ССиТ).\n",
    "\n",
    "Построение алгоритма будет выполняться в 2 этапа:\n",
    "1. Написание движка для нахождения функции k на заданном ориентированном мультиграфе (ССиТ)\n",
    "2. Оптимизация функции k"
   ]
  },
  {
   "attachments": {},
   "cell_type": "markdown",
   "metadata": {},
   "source": [
    "### Этап 1: Написание движка для нахождения функции k на заданном ориентированном мультиграфе"
   ]
  },
  {
   "cell_type": "code",
   "execution_count": 57,
   "metadata": {},
   "outputs": [],
   "source": [
    "from sympy import symbols, Eq, solve\n",
    "\n",
    "# Создание классов вершин и ребр графа. Скважины и сток будут особыми узлами с отдельными классами\n",
    "class Well:\n",
    "    def __init__(self, idx, alpha, const, Q):\n",
    "        self.idx = idx\n",
    "        self.alpha = alpha\n",
    "        self.const = const\n",
    "        # self.edge_input = edge_input\n",
    "        self.Q = Q\n",
    "    # def flow_rate(self):\n",
    "    #     return self.alpha * (  ) * self.const\n",
    "          \n",
    "class Vertex:\n",
    "    def __init__(self, idx):\n",
    "        self.idx = idx\n",
    "        self.edge_input = []\n",
    "        # self.edge_input = edge_input # List of pipes that are included in the node\n",
    "        self.Q = 0\n",
    "\n",
    "    def update_Q(self):\n",
    "        self.Q = sum(edge.Q_edge for edge in self.edge_input)\n",
    "\n",
    "class Edge:\n",
    "    def __init__(self, idx, vertex1, vertex2, length = 5, diameter = 2, roughness = 0.1, density = 1000):\n",
    "        self.idx = idx\n",
    "        self.vertex1 = vertex1\n",
    "        self.vertex2 = vertex2\n",
    "        self.length = length\n",
    "        self.diameter = diameter\n",
    "        self.roughness = roughness\n",
    "        self.density = density\n",
    "        self.update_Q_edge()\n",
    "\n",
    "    def update_Q_edge(self):\n",
    "        self.Q_edge = self.vertex1.Q\n",
    "        self.pressure_loss = self.density * self.length * self.Q_edge * self.roughness / self.diameter\n",
    "\n",
    "class Drain:\n",
    "    def __init__(self, p_0, alpha = 3, const = 10, idx=0):\n",
    "        self.p_0 = p_0\n",
    "        self.edge_input = []\n",
    "        self.alpha = alpha\n",
    "        self.const = const\n",
    "        self.idx = idx\n",
    "        self.Q_0 = self.alpha * self.p_0 + self.const"
   ]
  },
  {
   "cell_type": "code",
   "execution_count": 58,
   "metadata": {},
   "outputs": [],
   "source": [
    "# Создание графа\n",
    "def create_graph():\n",
    "    alpha = 3\n",
    "    const = 5\n",
    "    # get the number of Wells\n",
    "    num_wells = int(input(\"Enter the number of Wells: \"))\n",
    "    wells = []\n",
    "    \n",
    "    # Создание списка из num_wells элементов - Q1, Q2, Q3\n",
    "    flow_rate = []\n",
    "    for i in range(num_wells):\n",
    "        flow_rate.append('Q' + str(i+1))\n",
    "    flow_rate = symbols(flow_rate)\n",
    "    \n",
    "    counter = 0\n",
    "    for i in range(num_wells):\n",
    "        counter = counter + 1\n",
    "        wells.append(Well(i+1, alpha, const, flow_rate[i]))\n",
    "\n",
    "    # get the number of Vertex\n",
    "    num_vertex = int(input(\"Enter the number of Vertex: \"))\n",
    "    vertex = []\n",
    "    for i in range(num_vertex):\n",
    "        vertex.append(Vertex(i + counter))\n",
    "\n",
    "    # Create Drain\n",
    "    drain = [Drain(100)]\n",
    "    common_vertex = drain + wells + vertex # A common array of all vertices\n",
    "    print(common_vertex)\n",
    "\n",
    "    # get the number of Edges\n",
    "    num_edges = int(input(\"Enter the number of Edges: \"))\n",
    "    edges = []\n",
    "    for i in range(num_edges):\n",
    "        vertex1 = int(input(\"Enter the first vertex for edge {}: \".format(i + 1)))\n",
    "        vertex2 = int(input(\"Enter the second vertex for edge {}: \".format(i + 1)))\n",
    "        # length = float(input(\"Enter the length for edge {}: \".format(i + 1)))\n",
    "        # diameter = float(input(\"Enter the diameter for edge {}: \".format(i + 1)))\n",
    "        # roughness = float(input(\"Enter the roughness for edge {}: \".format(i + 1)))\n",
    "        # edges.append(Edge(i+1, common_vertex[vertex1], common_vertex[vertex2], length, diameter, roughness))\n",
    "        edges.append(Edge(i+1, common_vertex[vertex1], common_vertex[vertex2]))\n",
    "\n",
    "    for edge in edges:\n",
    "        # edge.vertex1.edge_input.append(edge)\n",
    "        edge.vertex2.edge_input.append(edge)\n",
    "        \n",
    "    # Обновление характеристик дебитов на узлах и гранях, после создания всех элементов графа и их связей\n",
    "    while edges[num_edges-1].Q_edge == 0:\n",
    "        # for well in wells:\n",
    "        #     well.flow_rate()\n",
    "\n",
    "        for edge in edges:\n",
    "            edge.update_Q_edge()\n",
    "\n",
    "        for vert in vertex:\n",
    "            vert.update_Q()\n",
    "\n",
    "    return wells, vertex, drain, edges, flow_rate"
   ]
  },
  {
   "cell_type": "code",
   "execution_count": 59,
   "metadata": {},
   "outputs": [
    {
     "name": "stdout",
     "output_type": "stream",
     "text": [
      "[<__main__.Drain object at 0x0000017ECF5CD970>, <__main__.Well object at 0x0000017ECF5B0CA0>, <__main__.Well object at 0x0000017ECF5CD2B0>, <__main__.Vertex object at 0x0000017ECF5CD1C0>, <__main__.Vertex object at 0x0000017ECF5CD2E0>, <__main__.Vertex object at 0x0000017ECF5CD3A0>]\n"
     ]
    }
   ],
   "source": [
    "wells, vertex, drain, edges, flow_rate = create_graph()"
   ]
  },
  {
   "cell_type": "code",
   "execution_count": 60,
   "metadata": {},
   "outputs": [
    {
     "name": "stdout",
     "output_type": "stream",
     "text": [
      "Q2\n",
      "Q1 + Q2\n",
      "[<__main__.Well object at 0x0000017ECF5B0CA0>, <__main__.Well object at 0x0000017ECF5CD2B0>]\n"
     ]
    }
   ],
   "source": [
    "# print(edges[0].Q_edge)\n",
    "# print(edges[1].Q_edge)\n",
    "# print(edges[2].Q_edge)\n",
    "print(edges[3].Q_edge)\n",
    "print(edges[4].Q_edge)\n",
    "# print(edges[7].Q_edge)\n",
    "# print(edges[7].pressure_loss)\n",
    "# print(type(edges[0].Q_edge))\n",
    "print(wells)"
   ]
  },
  {
   "cell_type": "code",
   "execution_count": 61,
   "metadata": {},
   "outputs": [],
   "source": [
    "\n",
    "def find_pipes(well, edges, drain):\n",
    "    pipes = []\n",
    "    visited = set()\n",
    "    queue = []\n",
    "    queue.append(well)\n",
    "    while queue:\n",
    "        curr = queue.pop(0)\n",
    "        visited.add(curr)\n",
    "        for edge in edges:\n",
    "            if edge.vertex1 == curr and edge.vertex2 not in visited:\n",
    "                queue.append(edge.vertex2)\n",
    "                pipes.append(edge)\n",
    "                if edge.vertex2 == drain:\n",
    "                    return pipes\n",
    "    return pipes\n",
    "\n",
    "# pipes_from_well_to_drain = []\n",
    "# for well in wells:\n",
    "#     pipes_from_wells_to_drain.append(find_pipes(well, edges, drain[0]))\n",
    "pipes_from_well_to_drain = find_pipes(wells[1], edges, drain[0])"
   ]
  },
  {
   "cell_type": "code",
   "execution_count": 62,
   "metadata": {},
   "outputs": [
    {
     "name": "stdout",
     "output_type": "stream",
     "text": [
      "[<__main__.Edge object at 0x0000017ECF5CD700>, <__main__.Edge object at 0x0000017ECF5CD490>, <__main__.Edge object at 0x0000017ECF5CD040>]\n",
      "Q2\n",
      "Q2\n",
      "Q1 + Q2\n"
     ]
    }
   ],
   "source": [
    "print(pipes_from_well_to_drain)\n",
    "print(pipes_from_well_to_drain[0].Q_edge)\n",
    "print(pipes_from_well_to_drain[1].Q_edge)\n",
    "print(pipes_from_well_to_drain[2].Q_edge)"
   ]
  },
  {
   "cell_type": "code",
   "execution_count": 63,
   "metadata": {},
   "outputs": [],
   "source": [
    "pipes_from_wells_to_drain = []\n",
    "for well in wells:\n",
    "    pipes_from_wells_to_drain.append(find_pipes(well, edges, drain[0]))"
   ]
  },
  {
   "cell_type": "code",
   "execution_count": 64,
   "metadata": {},
   "outputs": [
    {
     "name": "stdout",
     "output_type": "stream",
     "text": [
      "Q1 + Q2\n",
      "[<__main__.Edge object at 0x0000017ECF5CD340>, <__main__.Edge object at 0x0000017ECF5CD280>, <__main__.Edge object at 0x0000017ECF5CD040>]\n"
     ]
    }
   ],
   "source": [
    "print(pipes_from_wells_to_drain[1][2].Q_edge)\n",
    "print(pipes_from_wells_to_drain[0])"
   ]
  },
  {
   "cell_type": "code",
   "execution_count": 65,
   "metadata": {},
   "outputs": [
    {
     "name": "stdout",
     "output_type": "stream",
     "text": [
      "[<__main__.Edge object at 0x0000017ECF5CD340>, <__main__.Edge object at 0x0000017ECF5CD280>, <__main__.Edge object at 0x0000017ECF5CD040>]\n",
      "[<__main__.Edge object at 0x0000017ECF5CD700>, <__main__.Edge object at 0x0000017ECF5CD490>, <__main__.Edge object at 0x0000017ECF5CD040>]\n"
     ]
    }
   ],
   "source": [
    "# print(len(wells))\n",
    "for well in range(len(wells)):\n",
    "    print(pipes_from_wells_to_drain[well])"
   ]
  },
  {
   "cell_type": "code",
   "execution_count": 66,
   "metadata": {},
   "outputs": [
    {
     "name": "stdout",
     "output_type": "stream",
     "text": [
      "[Q1, Q2]\n"
     ]
    }
   ],
   "source": [
    "alpha = drain[0].alpha\n",
    "const = drain[0].const\n",
    "p0 = drain[0].p_0\n",
    "# Нахождение уравнений от-но дебитов каждой скважины\n",
    "def find_Q_well(p0):\n",
    "    p0 = p0\n",
    "    Q_well = []\n",
    "    for well in range(len(wells)):\n",
    "        Q_well.append(alpha * (p0 + sum(edge.pressure_loss for edge in pipes_from_wells_to_drain[well])) + const)\n",
    "    return Q_well\n",
    "\n",
    "flow_rate = []\n",
    "flow_rate = symbols(['Q{}'.format(i+1) for i in range(len(Q_well))])\n",
    "print(flow_rate)"
   ]
  },
  {
   "cell_type": "code",
   "execution_count": 77,
   "metadata": {},
   "outputs": [
    {
     "name": "stdout",
     "output_type": "stream",
     "text": [
      "Q0: -0.206735578526175\n",
      "p0: -3.40224519284206\n"
     ]
    }
   ],
   "source": [
    "# while True:\n",
    "p0 = drain[0].p_0\n",
    "Q_well = find_Q_well(p0)\n",
    "flow_rate = symbols(['Q{}'.format(i+1) for i in range(len(Q_well))])\n",
    "\n",
    "# solve the system of equations\n",
    "eqs = [Eq(Q_well[i], flow_rate[i]) for i in range(len(Q_well))]\n",
    "sol = solve(eqs, flow_rate)\n",
    "\n",
    "# calculate the new value of Q0\n",
    "Q0 = sum(sol.get(well) for well in flow_rate)\n",
    "\n",
    "# check for convergence\n",
    "# if abs(Q0 - Q0_prev) < eps:\n",
    "#     break\n",
    "\n",
    "# update the previous value of Q0\n",
    "Q0_prev = Q0\n",
    "\n",
    "# update the value of p0\n",
    "p0 = (Q0-const)/alpha\n",
    "\n",
    "# print the final values of Q0 and p0\n",
    "print(\"Q0:\", Q0)\n",
    "print(\"p0:\", p0)"
   ]
  },
  {
   "cell_type": "code",
   "execution_count": 76,
   "metadata": {},
   "outputs": [
    {
     "name": "stdout",
     "output_type": "stream",
     "text": [
      "[2250.0*Q1 + 750.0*Q2 + 310, 750.0*Q1 + 2250.0*Q2 + 310]\n",
      "{Q1: -0.103367789263088, Q2: -0.103367789263088}\n",
      "-0.103367789263088\n",
      "-0.206735578526175\n"
     ]
    }
   ],
   "source": [
    "# # Итерационный алгоритм\n",
    "# Q0_0 = alpha * drain[0].p_0 + const\n",
    "# eps = 0.001\n",
    "\n",
    "# p0 = drain[0].p_0\n",
    "# Q_well = find_Q_well(p0)\n",
    "# print(Q_well)\n",
    "# # Решение СЛАУ\n",
    "# eqs = []\n",
    "# for i in range(len(Q_well)):\n",
    "#     eqs.append(Eq(Q_well[i], flow_rate[i]))\n",
    "# sol = solve(eqs, flow_rate)\n",
    "# drain\n",
    "# print(sol)\n",
    "# print(sol.get(flow_rate[0]))\n",
    "# Q0 = sum(sol.get(well) for well in flow_rate)\n",
    "# print(Q0)\n",
    "# p0 = (Q0-const)/alpha"
   ]
  },
  {
   "attachments": {},
   "cell_type": "markdown",
   "metadata": {},
   "source": [
    "## Тестовая часть, понадлежит удалению перед отправкой"
   ]
  },
  {
   "cell_type": "code",
   "execution_count": 7,
   "metadata": {},
   "outputs": [
    {
     "name": "stdout",
     "output_type": "stream",
     "text": [
      "5\n"
     ]
    }
   ],
   "source": [
    "from sympy import symbols, Eq, solve\n",
    "\n",
    "class Well:\n",
    "    def __init__(self, idx, alpha, const, Q):\n",
    "        self.idx = idx\n",
    "        self.alpha = alpha\n",
    "        self.const = const\n",
    "        self.Q = Q\n",
    "\n",
    "          \n",
    "class Vertex:\n",
    "    def __init__(self, idx):\n",
    "        self.idx = idx\n",
    "        self.edge_input = []\n",
    "        self.Q = 0\n",
    "\n",
    "    def update_Q(self):\n",
    "        self.Q = sum(edge.Q_edge for edge in self.edge_input)\n",
    "\n",
    "class Edge:\n",
    "    def __init__(self, idx, vertex1, vertex2, length = 5, diameter = 2, roughness = 0.1, density = 1000):\n",
    "        self.idx = idx\n",
    "        self.vertex1 = vertex1\n",
    "        self.vertex2 = vertex2\n",
    "        self.length = length\n",
    "        self.diameter = diameter\n",
    "        self.roughness = roughness\n",
    "        self.density = density\n",
    "        self.update_Q_edge()\n",
    "\n",
    "    def update_Q_edge(self):\n",
    "        self.Q_edge = self.vertex1.Q\n",
    "        self.pressure_loss = self.density * self.length * self.Q_edge * self.roughness / self.diameter\n",
    "\n",
    "class Drain:\n",
    "    def __init__(self, p_0, alpha = 2, const = 10, idx=0):\n",
    "        self.p_0 = p_0\n",
    "        self.edge_input = []\n",
    "        self.alpha = alpha\n",
    "        self.const = const\n",
    "        self.idx = idx\n",
    "        self.Q_0 = self.alpha * self.p_0 + self.const\n",
    "\n",
    "# Body of the algorithm\n",
    "def create_graph():\n",
    "    # get the number of Wells\n",
    "    num_wells = int(input(\"Enter the number of Wells: \"))\n",
    "    wells = []\n",
    "    \n",
    "    # Создание списка из num_wells элементов - Q1, Q2, Q3\n",
    "    flow_rate = []\n",
    "    for i in range(num_wells):\n",
    "        flow_rate.append('Q' + str(i+1))\n",
    "    flow_rate = symbols(flow_rate)\n",
    "    \n",
    "    counter = 0\n",
    "    for i in range(num_wells):\n",
    "        counter = counter + 1\n",
    "        wells.append(Well(i+1, alpha, const, flow_rate[i]))\n",
    "\n",
    "    # get the number of Vertex\n",
    "    num_vertex = int(input(\"Enter the number of Vertex: \"))\n",
    "    vertex = []\n",
    "    for i in range(num_vertex):\n",
    "        vertex.append(Vertex(i + counter))\n",
    "\n",
    "    # Create Drain\n",
    "    drain = [Drain(100)]\n",
    "    common_vertex = drain + wells + vertex # A common array of all vertices\n",
    "    print(common_vertex)\n",
    "\n",
    "    # get the number of Edges\n",
    "    num_edges = int(input(\"Enter the number of Edges: \"))\n",
    "    edges = []\n",
    "    for i in range(num_edges):\n",
    "        vertex1 = int(input(\"Enter the first vertex for edge {}: \".format(i + 1)))\n",
    "        vertex2 = int(input(\"Enter the second vertex for edge {}: \".format(i + 1)))\n",
    "        edges.append(Edge(i+1, common_vertex[vertex1], common_vertex[vertex2]))\n",
    "\n",
    "    for edge in edges:\n",
    "        edge.vertex2.edge_input.append(edge)\n",
    "\n",
    "    while edges[num_edges-1].Q_edge == 0:\n",
    "        \n",
    "        for edge in edges:\n",
    "            edge.update_Q_edge()\n",
    "\n",
    "        for vert in vertex:\n",
    "            vert.update_Q()\n",
    "\n",
    "    return wells, vertex, drain, edges\n",
    "\n",
    "wells, vertex, drain, edges = create_graph()"
   ]
  },
  {
   "cell_type": "code",
   "execution_count": 1,
   "metadata": {},
   "outputs": [
    {
     "name": "stdout",
     "output_type": "stream",
     "text": [
      "[x, y, z]\n",
      "<class 'sympy.core.symbol.Symbol'>\n",
      "x y z\n",
      "<class 'sympy.core.symbol.Symbol'>\n"
     ]
    }
   ],
   "source": [
    "from sympy import symbols, Eq, solve\n",
    "\n",
    "\n",
    "variables = ['x', 'y', 'z']\n",
    "variables = symbols(variables)\n",
    "print(variables)\n",
    "print(type(variables[0]))\n",
    "\n",
    "variables = ['x', 'y', 'z']\n",
    "x, y, z = symbols(','.join(variables))\n",
    "print(x, y, z)\n",
    "print(type(x))\n"
   ]
  },
  {
   "cell_type": "code",
   "execution_count": null,
   "metadata": {},
   "outputs": [],
   "source": [
    "input().strip().split()\n",
    "print(a)"
   ]
  },
  {
   "cell_type": "code",
   "execution_count": 5,
   "metadata": {},
   "outputs": [
    {
     "name": "stdout",
     "output_type": "stream",
     "text": [
      "['Q0', 'Q1', 'Q2']\n"
     ]
    }
   ],
   "source": [
    "b = []\n",
    "for i in range(3):\n",
    "        b.append('Q' + str(i))\n",
    "\n",
    "print(b)"
   ]
  },
  {
   "cell_type": "code",
   "execution_count": 2,
   "metadata": {},
   "outputs": [
    {
     "name": "stdout",
     "output_type": "stream",
     "text": [
      "1\n"
     ]
    }
   ],
   "source": [
    "i = 1\n",
    "vertex1 = int(input(\"Enter the first vertex for edge {}: \".format(i + 1)))\n",
    "print(vertex1)"
   ]
  },
  {
   "cell_type": "code",
   "execution_count": 21,
   "metadata": {},
   "outputs": [
    {
     "name": "stdout",
     "output_type": "stream",
     "text": [
      "0\n"
     ]
    }
   ],
   "source": [
    "drain = [Drain(100)]\n",
    "print(drain[0].idx)"
   ]
  },
  {
   "cell_type": "code",
   "execution_count": 26,
   "metadata": {},
   "outputs": [
    {
     "name": "stdout",
     "output_type": "stream",
     "text": [
      "[1]\n"
     ]
    }
   ],
   "source": [
    "a = []\n",
    "a.append(1)\n",
    "print(a)"
   ]
  }
 ],
 "metadata": {
  "kernelspec": {
   "display_name": "Python 3",
   "language": "python",
   "name": "python3"
  },
  "language_info": {
   "codemirror_mode": {
    "name": "ipython",
    "version": 3
   },
   "file_extension": ".py",
   "mimetype": "text/x-python",
   "name": "python",
   "nbconvert_exporter": "python",
   "pygments_lexer": "ipython3",
   "version": "3.9.13"
  },
  "orig_nbformat": 4,
  "vscode": {
   "interpreter": {
    "hash": "ae2266b94642437b16f6fcd175fd0f2392e1971ae8a1465ac2924d8a8199ccf9"
   }
  }
 },
 "nbformat": 4,
 "nbformat_minor": 2
}
